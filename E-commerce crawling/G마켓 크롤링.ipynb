{
 "cells": [
  {
   "cell_type": "markdown",
   "metadata": {},
   "source": [
    "### G마켓 크롤링"
   ]
  },
  {
   "cell_type": "code",
   "execution_count": 1,
   "metadata": {},
   "outputs": [],
   "source": [
    "import requests\n",
    "from bs4 import BeautifulSoup\n",
    "import numpy as np\n",
    "import pandas as pd\n",
    "import matplotlib\n",
    "import matplotlib.pyplot as plt\n",
    "from matplotlib import font_manager, rc\n",
    "import nltk"
   ]
  },
  {
   "cell_type": "markdown",
   "metadata": {},
   "source": [
    "### Top 200 _ 전체 품목"
   ]
  },
  {
   "cell_type": "code",
   "execution_count": 2,
   "metadata": {},
   "outputs": [
    {
     "name": "stdout",
     "output_type": "stream",
     "text": [
      "http://corners.gmarket.co.kr/BestSellers\n"
     ]
    }
   ],
   "source": [
    "url_gm = 'http://corners.gmarket.co.kr/BestSellers'\n",
    "\n",
    "res_gm = requests.get(url_gm)\n",
    "soup_gm = BeautifulSoup(res_gm.content, 'html.parser')\n",
    "data_gm = soup_gm.find_all('a', {'class':'itemname'})\n",
    "\n",
    "print(url_gm)"
   ]
  },
  {
   "cell_type": "code",
   "execution_count": 3,
   "metadata": {},
   "outputs": [
    {
     "name": "stdout",
     "output_type": "stream",
     "text": [
      "\n",
      "\n",
      "\n",
      "\n",
      "\n",
      "(대감김치) 국내산 배추김치 5kg\n",
      "[올젠]갤러리아  남성14종 셔츠 ZOZ2WC1309/1305/1315/1317/1324\n",
      "제주 하우스 감귤 4.5kg(대과)/ 2개구매시 1kg추가증정\n",
      "[네이처드림]리얼 타트체리주스 1000ml 2병/NFC/타트체리 100%\n",
      "[차모아]자동차 도어커버 풀세트 단하루 오늘만 이가격\n",
      "[한국투자증권](한국투자증권) 온라인 금융상품권 5만원권\n",
      "[참도깨비]누들 마법 떡볶이 9인분/누들떡3봉+스프3/2세트 어묵탕\n",
      "[참도깨비]족발 보쌈 순살족발 녹차순살족발 3봉 /2세트시 떡볶이\n",
      "[케이투]남여공용 롱다운 FODIUM2 (포디엄2) KMW18573\n",
      "[다샵]국산 일회용 마스크 화이트 100매\n",
      "[모다아울렛]휴안청플러스 KF94 식약처인증 마스크 대형50매\n",
      "[스파클]스파클생수 2L 30병 쿠폰가13140\n",
      "착한낙지 매콤~칼칼  착한낙지 135g x 6팩+비법소스 6팩\n",
      "[다우니]초고농축 다우니 섬유유연제 베리베리 1L 3개\n",
      "[연세우유]연세 뼈를생각한 고칼슘두유검은콩/호두아몬드72팩\n",
      "[롯데푸드]롯데햄 키스틱 25g x 100개\n",
      "(현대백화점)[현대백화점][쁘띠엘린] 립프로그)NEW 아이스크림카트-한영버전 (24개월이상)/역할놀이/한영 동시학습 \n",
      "보존료 없는 건자두 2kg 푸룬/건과일\n",
      "[숨37](신세계강남점)[8MS]NEW 시크릿 에센스 45ml 기획\n",
      "[청정원]청정원 프리미엄파스타소스3개 골라담기+면or수프증정\n",
      "집구빵 갈릭크로와상 200g +200g(총20개입)\n",
      "찌지않고 바로먹는 쑥개떡(1kg) + (1kg) 콩가루증정\n",
      "여성팬티/노라인/위생/엉뽕/찐 초특가\n",
      "감자 경상도 햇 감자 10kg(대)/찜용\n",
      "[릴리유]릴리유 퓨어퍼플 물티슈 캡72매X10팩(1BOX)\n",
      "[크리넥스]크리넥스 실크소프트 250매X3입X3팩 /곽티슈\n",
      "[동원에프앤비]라이트스탠다드 85g x 22캔\n",
      "eTV 옥주부 제주돼지통까스(등심 8팩+치즈 2팩+소스 2종(10팩)+돈가스거치대)\n",
      "[플라스틱아일랜드스토리] 야상형 덕 다운 점퍼 (PK4NZ166)\n",
      "[미스타셰프]미스타셰프 갈비탕 600g 3팩/간편식/간편조리/증정\n",
      "꼬에 20 Autumn 클린 블라우스 5종\n",
      "[크린조이] [KF94/식약처허가]  보건용마스크 대형 100매 (화이트/블랙)\n",
      "[미마마스크]SNS 입소문 (100% 국내 생산 무중력 마스크) 미마 보건용 KF94 마스크 화이트 50매\n",
      "[동서]오레오 초코쿠키600g+화이트쿠키600g +오레오 접시\n",
      "테이스티나인 최현석 안심 스테이크 150gx10팩 + 채\n",
      "[하남 핫푸드] 하남쭈꾸미 500g X3팩(딜)\n",
      "[로사퍼시픽]의약외품 노란통연고 흉터흔적지우개 18g 대용량1+1 (택1)\n",
      "The AtG 더엣지 FALL20 라스트핏 수트셋업 3종\n",
      "테이스티나인 최현석 안심 스테이크 150gx5팩 + 채소\n",
      "순면 아동팬티 5매 유아 런닝 속옷 키즈어린이 주니어\n",
      "퓨어커버 국내산 KF94 4중 마스크 대형 방역 황사 50매\n",
      "[BYO]CJ BYO 20억 생유산균 30포 x 3개 (총90포)\n",
      "[밀레]밀레 FW 간절기 자켓/다운자켓 혜택가 모음\n",
      "[네슬레폴로]폴로  대용량 사탕 1.8kg(1000개) +구매수량별 사은품\n",
      "[매일우유]매일 멸균우유 200ml 48팩/우유\n",
      "[하이드로더치]10+10+7 하이드로 더치커피 콜드브루 원두 커피\n",
      "[제스프리]제스프리 썬골드키위 특대사이즈 3.5kg (과당 130g-140g 내외  24-26과  키위스푼 5개 증정)\n",
      "[파스퇴르]파스퇴르 무항생제 인증 바른목장 우유(190ml48입)/멸균우유\n",
      "[한양식품]꽃보다 오징어 260g x 2봉 오리지널 건어물녀 숏다리\n",
      "[쏘피]유기농순면 무표백 생리대 중형 18Px4팩\n",
      "두뇌 UP 가로세로 낱말퍼즐/미로 찾기/스도쿠/틀린 그림 찾기/컬러링북 선택구매\n",
      "꼬에 20 Autumn 클린 블라우스 5종\n",
      "[깨끗한나라]데일리 키친타올 130매 4+2롤 x 3팩  (특가)\n",
      "달리샵 필수소장 베스트 원피스/블라우스\n",
      "[다우니]초고농축 다우니 섬유유연제 화이트티 1L 3개\n",
      "[대구백화점 I관] [피에르가르뎅]핸드백 50종\n",
      "[에뛰드하우스]아묻따 2만원 이상 50% 8월 월급 루팡 대전\n",
      "[아침농산]국산 농부의아침 쌀10kg  백미 2019년산 햅쌀\n",
      "[오하루 자연가득 x 황성주] 100% 국내산 서리태 맷돌 두유 80팩\n",
      "메이킹유 전상품균일가 원피스/블라우스/여름니트\n",
      "[다샵]KF94 뉴크린웰 국산 황사 마스크 대형 50매(개별포장)\n",
      "건강한 유기농 생리대 중형 16p x 3+1팩\n",
      "제주안심밥상 냉장 제주흑돼지 구이살 3팩 1.2kg\n",
      "[롯데제과]월드콘/설레임160ml 5종X24개골라담기\n",
      "[구글플레이](카드가능) 기프트코드 10만원 / 구글 기프트카드\n",
      "[아침농산]국산 찰보리 500g x 4개 2020년산 햇보리 출하\n",
      "[젤리스푼]아동복/여아의류/시즌아웃 6900원 최종세일가\n",
      "[롯데칠성]오가닉 적포도보라당근 125ml 24팩 +사은품\n",
      "치실 국내생산 이편한 치실 1+1(성인용80p+키즈용80p)\n",
      "[하누소]하누소 왕갈비탕(650g6팩)\n",
      "에어프라이어 치킨 떴닭 로스트1kg+1kg/100%국내산\n",
      "[산과들에]허니버터아몬드18gx30봉\n",
      "[클린앤클리어]클린앤클리어 에센셜 훼이셜 포밍 클렌저 150ml 3개입\n",
      "[티비제이]남여 라이트 구스다운 베스트 DW980981\n",
      "[크라운]참쌀 선과 253g 44봉 3박스\n",
      "[다우니]초고농축 다우니 섬유유연제 엑스퍼트 실내건조 1L 3개\n",
      "[농협]보성다향미20kg/쌀20kg 상등급 백미20kg 당일도정\n",
      "[나무야나무야]나무야 도톰한 3겹데코 30m 30롤 3팩/화장지/휴지\n",
      "홈파티 디저트 레인보우 큐브치즈 8팩(1팩 24큐브)\n",
      "[미센스]가을오픈+여름클리어런스 원피스外+최대22%중복쿠폰\n",
      "[대웅모닝컴]대웅 3D 입체회전 리모컨 스탠드 써큘레이터 선풍기\n",
      "[하비비]청개구리 자동 싱크대 클리너 세정제 3개\n",
      "[청정원]스파게티/파스타소스 600gx3 +면500g x2 or 수프증정\n",
      "[블랙야크]블랙야크 남여공용 겨울 헤비다운자켓 롯지네오다운자켓-1YDP\n",
      "[다우니]다우니 고농축섬유유연제 대용량 3.8L 레몬그라스 2개\n",
      "MD추천 2020 최신상 CJ단독 데싱디바 페디 한정판-산토리니\n",
      "[롯데칠성]펩시콜라 210ml x 30캔\n",
      "NEW 신제품 얇은피 교자만두 8봉 골라담기+증정\n",
      "국내가공 홍진미 1kg 진미채\n",
      "[쏘피]유기농순면 무표백 생리대 대형 16Px4팩\n",
      "[페브리즈]페브리즈 에어 맑은 하늘바람 3개 p\n",
      "비비 국산 KF94 황사 미세먼지 마스크 대형 50매\n",
      "[이지바이]시즌오프 5900 몽땅 균일가 등산복/작업복/트레이닝\n",
      "블랑슈 시그니처 블랙 아기물티슈 캡형 100매 10팩\n",
      "[에쓰오일](S-OIL) 모바일 주유권 5만원권\n",
      "[에그머니](카드가능)(에그머니) 온라인 게임상품권 5만원\n",
      "팽현숙 최양락의 맛있는 옛날김치 포기김치10kg +총각김치2kg\n",
      "[매일유업]아몬드브리즈 오리지널 190ML 48팩 + 캠핑체어 증정\n",
      "[동성제약]미에뜰 순수 여성청결제 500ml 1+1 저자극 순한 청결제\n",
      "[맛있는두유GT]맛있는 두유GT 달콤한맛 190ml x 64팩\n",
      "냉동 망고 1kgx2팩 베트남산\n",
      "[팬콧키즈]22%중복 1+1 긴팔티 상하복 바지 의류 트레이닝복\n",
      "[아이러브베베]아이러브베베물티슈핑크100매캡형X20팩\n",
      "[스타벅스]컵커피 스키니라떼 200mlX10컵X서머 파우치+전용포장\n",
      "[스타벅스]컵커피 카페라떼  200mlX10컵X서머파우치+전용포장\n",
      "로벤탈/키친아트 후라이팬 1+1+1 균일가\n",
      "[케이투]여성 구스다운 앨리스 KWW18564\n",
      "[다우니]다우니 대용량 섬유유연제 아로마플로럴 8.5L 2개 농축\n",
      "리빙웰 투명 에어프라이어 다이얼 YD-55K07A 블랙\n",
      "바이올린6종채칼+감자칼/채칼/다지기/\n",
      "[깨끗한나라]순백블루 3겹 화장지 27m 30롤 x 3팩(특가)\n",
      "[모카썸]아듀썸머Final 50종 반팔티/후드/맨투맨/원피스\n",
      "[에이블루]커블체어 와이더 20년형 자세교정의자 출시\n",
      "[카파]Kappa 시즌OFF 반팔티셔츠/운동화/슬리퍼/팬츠 모음전\n",
      "건강한 유기농 생리대 대형 14p x 3+1팩\n",
      "셀렙샵 에디션 20FW 컴팩트 수트\n",
      "[아디다스오리지널](신세계하남점)[New Originals] 슈퍼스타_[EG4958]\n",
      "TV 한복선 영양 특 소갈비탕 800gX10팩\n",
      "[시크릿데이](2+2팩) 베스트셀러 러브생리대/오버나이트/라이너\n",
      "[마이키즈]마이키즈 워시 프레쉬 1000ml +판테딘견본20ml H2\n",
      "[그린핑거]마이키즈 샴푸 프레쉬 1000ml +판테딘견본20ml H2\n",
      "[다샵]국산 일회용 마스크 블랙 50매\n",
      "올 재료 국내산 총각김치 5kg / 초특가중\n",
      "[아이깨끗해]핸드워시 순 200ml 리필 5개+250ml 본품 증정\n",
      "[리벤스]분리수거함 비닐봉투(40L) 200매\n",
      "[나크제이]1+1 디퓨저 500ml + 500ml + 스틱세트/탈취제/방향제\n",
      "(흥해농협) 맑은삼광쌀 상등급 20kg 19년산 (박스포장)\n",
      "[구글플레이](카드가능) 기프트코드 5만원 / 구글 기프트카드\n",
      "7+2세트발레리 라이크라 더블커버윙\n",
      "2개사면 +2개 더/이지퀵다이어트식품/뱃살감량/S라인\n",
      "팽현숙 최양락의 맛있는 옛날김치 포기김치 10kg\n",
      "[카사업][세일] 이영애 카사업 하트페이스 기기 세트\n",
      "[제주삼다수]제주삼다수 2L 12병/생수전문배송\n",
      "[하남 핫푸드] 하남쭈꾸미 350g X3팩\n",
      "[오뚜기밥]맛있는 오뚜기밥 210g x 24개입(1박스)\n",
      "브리치x뿌미 여름 best 티셔츠/블라우스/팬츠\n",
      "[닥터펩스토리] KF94 마스크 (50매) \n",
      "[은하수산]MAP포장 신선한 국내산 숙성 송어회  120g+소스 / 2팩\n",
      "[파스퇴르]파스퇴르 뉴칼슘두유 190mL 16팩 X3 (48팩)\n",
      "[헬로]헬로 순수 3겹 천연펄프 화장지 30m 30롤 3팩 특가행사\n",
      "[비스비]웹캠 컴퓨터캠 화상캠 카메라 회의교육STUDY9 EDU9\n",
      "[김나운의 마음 편한 마스크] (200매) 국내생산 3중 구조 김나운의 마음편한 일회용 마\n",
      "[칠성사이다]칠성 사이다 210ml x 30캔 박스 포장 /롯데칠성몰 공식\n",
      "국산 식약처인증 KF-AD 입체형 비말차단 마스크 50매\n",
      "[미샤]미샤 돌아와요 내피부 기초 라인 최대 50% 선케어 1+1\n",
      "[쏘피]유기농순면 무표백 오버나이트 생리대 슈퍼롱 10Px4팩\n",
      "[머스트비]머스트비 여름 신상품 원피스/자켓/티셔츠/청바지\n",
      "[엘칸토]엘칸토 20FW 신상입고 펌프스/뮬/슬립온/플랫\n",
      "[GNM자연의품격]코엔자임Q10 코큐텐 4박스/4개월분\n",
      "[왕특대] 이동삼 안동 간고등어 140g 18팩\n",
      "[롯데칠성]오가닉 사과당근 125ml 24입 1박스 +사은품\n",
      "[너트리]홍진미채 1kg 국내가공 보냉팩포장\n",
      "[아이락스]IRC70 FULL HD 웹캠 온라인강의 개인방송 회의용 예약\n",
      "[아디다스오리지널](신세계타임스퀘어점패션관)남여공용 오즈위고(EE6999_OZWEEGO)\n",
      "[블루독베이비](신세계하남점)PL)블루독ST MTM(49A19-334-05)\n",
      "[니]NII 남녀 반바지/데님팬츠 팬츠50종+최대추가22%할인\n",
      "[아디다스]홈쇼핑 특가 아디다스 남성 드로즈 특가 9900~\n",
      "[케이투]남여공용 구스 롱다운 푸키롱 KUW19597\n",
      "[퍼펙트바이오틱스]퍼펙트바이오틱스 슈퍼 프로바이오틱스 19 6박스\n",
      "[잘풀리는집]순수PURE 천연펄프 25m30롤 x3팩/휴지/화장지\n",
      "[제주삼다수]제주삼다수 2L 24병/생수전문배송\n",
      "NEW땡큐 화장지 (30롤 x 2팩) / 3겹 두루마리 휴지\n",
      "힙시크 가을신상추가/원피스/크롭티/반팔티/팬츠\n",
      "알타파마 맥주효모 Plus Hair+nails 6개 묶음 600일분\n",
      "시공주니어 나무집 시리즈 (전12권)_본책9권+펀북3권\n",
      "[신일]신일 에어 서큘레이터 스탠드형 1세트 (블랙)\n",
      "[디스커버리](신세계타임스퀘어점패션관)DKDJ54961 키즈 레스터 롱다운 자켓 역시즌 정상가 259 000원\n",
      "[코리아나](12%중복쿠폰) 앰플엔 8월 클리어런스 UP TO 80% SALE\n",
      "바나나 4.5kg내외 (3~4다발) /(dole)정품 바나나\n",
      "[천연사이다]일화 천연사이다 190ml x 30캔 / 탄산음료 캔음료\n",
      "농협프리미엄_예천일품쌀10KG 포 \n",
      "[뼈로가는칼슘두유]검은콩 190ml 72팩/두유\n",
      "[테리파머]호텔수건 무형광 180g 다이아보더 수건 10장 타올\n",
      "국산 반팔/민소매/7부/내의/실내복/유아/아동/잠옷\n",
      "[안주야]청정원 안주야 4개 골라담기+마늘근위/핫도그증정\n",
      "[에쓰오일](S-OIL) 모바일주유권 5만원/ 실시간발송/ 주유상품권\n",
      "전체 생방송 매진 비비안 스킨핏 2020 누디패키지 시즌2 V14\n",
      "일명 깃털마스크  무중력마스크 미마 KF94 보건용 마스크 50매\n",
      "[천호엔케어]천호엔케어 하루활력 흑마늘 30팩 1+1박스\n",
      "[신일]신일 에어 서큘레이터 스탠드형 1+1세트 (화이트)\n",
      "[테크액체세제]테크 파워액체세제 대용량 8L (일반/드럼겸용)\n",
      "[안다르]20%+10% 안다르 국민홈트 프로젝트 1/2\n",
      "집구빵 마늘바게트 200g +200g(총20개입)\n",
      "[김나운더키친]김나운 떡갈비 명작 18팩/총36장\n",
      "냉면 연구소  정석 물냉면 풀세트(10인분)_쿠폰가 9047\n",
      "[구글플레이](카드가능) 기프트코드 1만원 / 구글 기프트카드\n",
      "[롯데제과]자일리톨 리필류 3종X3개 구성+응모이벤트\n",
      "어썸핏 여성 데일리 풀코디 4종 세트\n",
      "[프렌치카페]카페믹스/믹스커피/ 프렌치카페 커피믹스 310+김치용기\n",
      "[베이비베이비]베이비베이비 아기물티슈 트윙클120매 20팩 캡형\n",
      "[광동]야왕 야관문차 500ml 24pet/차음료 유통기한 20.10.17\n",
      "[라벨영]쇼킹어성초두피스팟 /가려움+악취+두피 트러블 제거\n",
      "[밀레](대구신세계)밀레 MXOSB909 남여공용 방수 쿨링 BOA 경등산화 출시가: 208 000원\n",
      "[웅진]빅토리아 탄산수 탄산음료 500ml 350ml캔 2박스\n",
      "[청정원]청정원 소시지 리치부어스트 1.5kg +할라피뇨소떡증정\n",
      "14K귀걸이(Gold-Pin) 외 로즈골드 쥬얼리 균일특가\n",
      "[켈로그]리얼그래놀라 400g  파우치형 3봉지\n",
      "[라네즈]네오 쿠션 매트 15G/24시간모공커버/쿠션팩트/컨실러급\n",
      "[크리넥스]크리넥스 KF-AD 비말차단 에어 마스크 1p x 50\n",
      "클리오/페리페라 립 99특가전 外 ~82%\n",
      "아이브로우 1+1+1 등 아이 메이크업 7종 모음전\n",
      "구운 맛 고등어 110g 10팩 편리한 반찬 특별한 선물\n",
      "더구두 5900원특가 여성샌들 슬리퍼 여자샌들\n",
      "15U560 6세대 i5탑재 온라인 수업 추천 윈도우10 무료\n",
      "천연옥깍아만든 식기 옥식기 옥돌 대접\n",
      "태미스 국산 3중필터 일회용 마스크 50매 개별포장1BOX\n",
      "레그넘 안마의자 렌탈\n",
      "냥살림 도넛 퍼 쿠션 마약방석 마약침대\n",
      "칸타타 콘트라베이스 콜드브루 500ml /한정수량 블랙\n",
      "건조기인 사타구니가려움완화 남성청결제(선크림증정)\n",
      "여름 망사 운동화 메쉬 런닝화 아쿠아 슈즈 MS605\n",
      "스판인생팬츠/남여바지/데일리팬츠/정장/반바지~4XL\n",
      "15kg 공기방울 통돌이 세탁기 강화유리 NWF15GDSK\n",
      "원더핏 남자 체형보정속옷 여유증 니플밴드 런닝 나시\n",
      "프라임 국산정품 특판전 AA/AAA/C/D/9V/리튬 건전지\n",
      "HP A4 복사용지(A4용지) 75g 2500매 2BOX/더블에이\n",
      "저분자피쉬콜라겐 30포x4박스+레몬밤30정+콜라겐30정\n",
      "전자노트 12인치 메모/필기/연습장 (1+1)100개한정특가\n",
      "자체발열 원적외선 허리보호대 지방분해 생리 복대\n",
      "보로 통가죽벨트 정장벨트 청바지벨트 아빠 남친선물용\n"
     ]
    }
   ],
   "source": [
    "for item_gm in data_gm:\n",
    "    print(item_gm.get_text())"
   ]
  },
  {
   "cell_type": "code",
   "execution_count": 4,
   "metadata": {},
   "outputs": [
    {
     "name": "stdout",
     "output_type": "stream",
     "text": [
      "'(366) ,(224) [(150) ](150) )(67) ((65) x(18) %(14) 마스크(14) 다우니(10) /(9) 50매(9) 국산(7) KF94(7) 국내산(6) 3개(6) 청정원(6) +(6) 대형(6) 1+1(6) 500ml(6) ``(5) 남여공용(5) 생리대(5) 블랙(5) 일회용(4) 섬유유연제(4) 1kg(4) 크리넥스(4) 밀레(4) 대용량(4) 파스퇴르(4) 3팩(4) 특가(4) 카드가능(4) 30롤(4) 에어(4) 맛있는(4) 제주삼다수(4) 신일(4) 1000ml(3) 100(3) 온라인(3) 케이투(3) 롱다운(3) 다샵(3) 화이트(3) 100매(3) 2L(3) 초고농축(3) "
     ]
    }
   ],
   "source": [
    "item_list_gm = []\n",
    "\n",
    "for item_gm in data_gm:\n",
    "    items_gm = item_gm.get_text()\n",
    "    item_list_gm.append(items_gm)           \n",
    "\n",
    "str_itemlist_gm = str(item_list_gm)\n",
    "\n",
    "tokenized_gm = nltk.word_tokenize(str_itemlist_gm)\n",
    "\n",
    "word_dic_gm = {}\n",
    "\n",
    "for word in tokenized_gm:\n",
    "    if word not in word_dic_gm:\n",
    "        word_dic_gm[word] = 1 # changed from \"0\" to \"1\"\n",
    "    else:\n",
    "        word_dic_gm[word] += 1\n",
    "        \n",
    "sorted_word_dic_gm = sorted(word_dic_gm.items(), key=lambda x:x[1], reverse=True)\n",
    "\n",
    "for word, count in sorted_word_dic_gm[:50]:\n",
    "    print(\"{0}({1})\".format(word, count), end=\" \")"
   ]
  },
  {
   "cell_type": "code",
   "execution_count": 6,
   "metadata": {},
   "outputs": [
    {
     "data": {
      "image/png": "[encoded data removed]",
      "text/plain": [
       "<Figure size 1080x360 with 1 Axes>"
      ]
     },
     "metadata": {
      "needs_background": "light"
     },
     "output_type": "display_data"
    }
   ],
   "source": [
    "word_frequency_gm = nltk.FreqDist(word_dic_gm)\n",
    "\n",
    "font_name = matplotlib.font_manager.FontProperties(fname=\"C:/Windows/Fonts/malgun.ttf\").get_name() \n",
    "matplotlib.rc('font', family=font_name)\n",
    "\n",
    "gm_df = pd.DataFrame(list(word_frequency_gm.values()), word_frequency_gm.keys())\n",
    "result_gm = gm_df.sort_values([0], ascending=False)\n",
    "result_gm[8:70].plot(kind='bar', legend=False, figsize=(15,5))\n",
    "plt.show()"
   ]
  },
  {
   "cell_type": "markdown",
   "metadata": {},
   "source": [
    "### 주방용품 Best100, 판매실적 기반 (자체)"
   ]
  },
  {
   "cell_type": "code",
   "execution_count": 7,
   "metadata": {},
   "outputs": [
    {
     "name": "stdout",
     "output_type": "stream",
     "text": [
      "http://corners.gmarket.co.kr/BestSellers?viewType=C&largeCategoryCode=100000085\n"
     ]
    }
   ],
   "source": [
    "url_gm_kit = 'http://corners.gmarket.co.kr/BestSellers?viewType=C&largeCategoryCode=100000085'\n",
    "\n",
    "res_gm_kit = requests.get(url_gm_kit)\n",
    "soup_gm_kit = BeautifulSoup(res_gm_kit.content, 'html.parser')\n",
    "data_gm_kit = soup_gm_kit.find_all('a', {'class':'itemname'})\n",
    "\n",
    "print(url_gm_kit)"
   ]
  },
  {
   "cell_type": "code",
   "execution_count": 8,
   "metadata": {
    "scrolled": true
   },
   "outputs": [
    {
     "name": "stdout",
     "output_type": "stream",
     "text": [
      "\n",
      "\n",
      "\n",
      "\n",
      "\n",
      "[이놀]1+1 국내 실리콘 이유식 항균 도마\n",
      "[테팔](현대백화점)테팔 쏘엘레강스 볶음팬 28cm/쏘 엘레강스/멀티팬\n",
      "[테팔](현대백화점)테팔 하드티타늄 엑설런스 인덕션 프라이팬 28CM\n",
      "바이올린6종채칼+감자칼/채칼/다지기/\n",
      "[테팔]테팔 스페셜에디션 프라이팬 28cm\n",
      "[테팔](현대백화점)테팔 쏘엘레강스 프라이팬 32cm/쏘 엘레강스\n",
      "[가쯔]심플쿡 냉동밥전자렌지용기 20개\n",
      "가위 집게 국자 뒤집개 원목소품까지 1+1 무료배송\n",
      "로벤탈/키친아트 후라이팬 1+1+1 균일가\n",
      "[키친플라워]키친플라워 냄새해결 매직홀 사각팬 (NY-3232)\n",
      "램프쿡 만능 자동회전냄비\n",
      "위스키 굿 실리콘 왕얼음틀4구 외 상시특가 50종\n",
      "[카르닉]1+1 이중진공 스텐 텀블러 600ml 900ml/보온보냉병\n",
      "[토프]확장형 씽크인주방선반/후라이팬정리대/접시정리대 외\n",
      "[르크루제]갤러리아   르크루제  카술레 서빙볼\n",
      "[리빙코디]쉐프 스마트 후라이팬 1+1 궁중팬 프라이팬 웍\n",
      "[키친아트]큐티 와플 스낵 메이커/ PK-2368JT\n",
      "스마트큐브 얼음트레이 풀세트 컨테이너 전용스쿱 포함\n",
      "[키친아트]프라이팬 1+1 내맘대로 골라담기 2P\n",
      "[엠에스리빙]접시정리대/후라이팬정리대/주방수납용품 44종\n",
      "[LG생활건강]세균아꼼짝마 ABY 손소독티슈 50매 6팩\n",
      "[락앤락]바로한끼 밥용기/바로보관유리용기\n",
      "[락앤락]비스프리 스테커블 3개 반찬통 밀폐용기 냉장고정리\n",
      "[스카트]스카트 THE 버블 수세미 브라운 50매X3롤\n",
      "[스카트]스카트 THE 버블 수세미 그레이 50매X3롤\n",
      "2020년 출시 최신상 락앤락 스마트 진공쌀통\n",
      "[브리타][브리타] 막스트라 플러스 필터 3개월분 + 1개월분 (총 4개월분)\n",
      "[니트렉스]라텍스장갑니트릴장갑200매/요리/위생\n",
      "[테팔](현대백화점)테팔 하드티타늄 엑설런스 인덕션 프라이팬 24CM\n",
      "[엠에스리빙]투썸 스텐레스 물빠짐 식기건조대 국내제작/304물받이\n",
      "[러브쿡]스타일 플레이트 파스타볼 2p / 파스타접시 스텐접시\n",
      "[해피콜]1+1 컴포트 다이아몬드 후라이팬 28cm + 궁중팬 28cm\n",
      "[LG생활건강]세균아꼼짝마 ABY 손소독티슈 10매 30팩\n",
      "[오스벨]튀김냄비 궁중팬 튀김팬 24cm+튀김망 특가 모움\n",
      "[락앤락]밀폐용기/후라이팬/고무장갑/물병 총모음전\n",
      "땡스소윤 용기만1+1 땡스소윤 냉동실 용기\n",
      "[이노하우스]슈퍼특가 프리미엄 양면 주방매트 PVC 씽크대발매트\n",
      "[해피콜]1+1 컴포트 다이아몬드 후라이팬 28cm+후라이팬 28cm\n",
      "렌지메이트 스페셜 풀세트(쿠커+롱그릴팬)\n",
      "[필모아]필모아 대용량 텀블러+아이스 탱커 풀세트\n",
      "[키친아트]키친아트 스텐밀폐용기 17개\n",
      "비닐봉투 쓰레기봉투 비닐봉지 재활용봉투 대형봉투\n",
      "웰피아 생생락 24종 반영구 만능실리콘뚜껑 가오리집게\n",
      "[강블리라이프]커트러리 디너 4종세트(스푼+젓가락+포크+나이프)\n",
      "[매직캔]New 매직캔 히포 4중 냄새차단 쓰레기통(27L+21L+ 매직롤 40개월 분량)\n",
      "비닐봉투/재활용/쓰레기봉투/마트/검정/대형비닐/봉지\n",
      "[LG생활건강]세균아꼼짝마 ABY 손소독티슈 10매 10팩\n",
      "재활용 대형비닐봉투 35~100L 무료배송\n",
      "[엠앤쿡]독일 오스벨 후라이팬 궁중팬 세트 28+28cm 특가할인\n",
      "[오비닐닷컴]두꺼운검정비닐봉지 재활용분리수거 대형쓰레기봉투\n",
      "A급 1000/500/300장 배접/평판/손잡이봉투 쓰레기봉투\n",
      "인쇼핑 생생락 4세트+가오리집게 만능실리콘덮개\n",
      "[스카트]스카트 THE 버블 수세미 베이지 50매X3롤\n",
      "냄새잡는 싱크대거름망(소) 구리 씽크대거름망\n",
      "[락앤락]락앤락 고무장갑 10개세트 주방용품 밀폐용기 균일가\n",
      "로벤탈 올리비아네이쳐 프라이팬 1+1\n",
      "[글라스락]강화퓨전머그 350ml_4조\n",
      "세균싹 행주티슈 23팩\n",
      "[위드웰]진공쌀통 20kg 쌀보관통 쌀항아리 쌀독 쌀보관함\n",
      "[테팔](신세계강남점)테팔 하드티타늄 엑설런스 인덕션 후라이팬2종 24+28cm\n",
      "[락앤락](쿠폰가10290)걸이형 고무장갑 M 32cm 5+1개 그레이\n",
      "[기본에]세균닦는 행주티슈 플러스케어 80매X20팩\n",
      "[테팔]테팔 이노바시오 인덕션 프라이팬2종세트 (24cm+28cm)\n",
      "[지퍼락]지퍼락 지퍼백 이지오픈탭 냉동 중형105+대형55\n",
      "락앤락 스마트 진공쌀통\n",
      "니트릴장갑 100매 식품/연구/보건(화이트.블루.블랙)\n",
      "[토프]스마트 후라이팬 전사이즈 1+1/인덕션 프라이팬 단품\n",
      "위생장갑 쉐프 위생장갑 500매 1+1\n",
      "[크린랲]크린랩 고무장갑10개 면코팅 크린랲 명진 태화 파스텔\n",
      "[다다리빙]스텐 식기건조대 1단 2단 주방선반 싱크대선반 기둥식\n",
      "[보랄] 인기상품  보랄 더쉐프 인덕션 + IH냄비세트\n",
      "벨라쿠진 잼팟 6리터+유리뚜껑 세트\n",
      "팽현숙 일회용 수세미 롤(60매) 3개 + 사은품\n",
      "[락앤락](스푼증정)바로한끼 이유식 원형용기 6P\n",
      "베카 시즈닝 무쇠팬 풀세트\n",
      "[지퍼락]지퍼락 지퍼백 이지오픈탭 냉장 중형150+대형75\n",
      "1+1 파일럿 매직 보틀 아동 유아 물병 400ml(손잡이)\n",
      "[LG생활건강]세균아꼼짝마 ABY 손소독티슈 50매 4팩\n",
      "[해피콜]해피콜 샤인블랙 프라이팬 28cm\n",
      "[글래드]2019 FW 신규입고 매직랩 홈컬렉션 3개 세트\n",
      "[새니피아]비닐봉투 쓰레기 봉투 봉지 큰 대형 재활용 분리수거\n",
      "[키친아트]프리미엄 세라믹통주물냄비 일반형 큰구성 4종세트\n",
      "쓰레기봉투 배접 비닐봉투 박스 특대/대/중/소\n",
      "셰프웨어 클래시 식기건조대 에어웨이브 물빠짐 대용량\n",
      "(현대Hmall)[세정제증정]써모스 원터치 머그형 보온병보냉병 JNL-503K 0.5L\n",
      "[해피콜]프리미엄 컴포트 다이아몬드코팅 후라이팬 28cm\n",
      "[리빙아트]IH 인덕션냄비 스텐냄비 냄비세트 모든열원사용가능\n",
      "강블리라이프 스텐 진공 텀블러 900ml+손잡이+스트로우\n",
      "[필립스][필립스] 데일리 컬렉션 무선 전기주전자 HD9352/80\n",
      "덴켄 가스렌지가드 가림막 기름튐 오염방지\n",
      "[락앤락]1+1 2개 식탁용 가정용 물병 물통 몽땅 할인전\n",
      "[브리타]브리타 막스트라 플러스 필터 3+1개월분(총 4개월분)\n",
      "[글라스락]신상 눈금 이유식용기 스마일캡 6조 210ml/ 글라스락\n",
      "[네오플램]IH인덕션 후라이팬 궁중팬 모든열원사용가능\n",
      "프리미엄 _ 900AL 부착식 식기건조대 싱크대선반 싱크\n",
      "[글래드]glad 식품포장용 프레스앤씰 매직랩 30cmx43.4m 3개\n",
      "[한결포장]지퍼백 미니 소형 대형 두꺼운 지퍼팩 투명 스탠딩\n",
      "[해피콜]티타늄 IH 인덕션 후라이팬 2종 세트 (팬28cm+웍28cm)\n",
      "네오플램 피카 IH(인덕션) 4종(18편수+22양수+F/P24+F/P28)\n",
      "[포트메리온] 컨템포러리 머그 0.36L 4p(BG)(NEW)\n"
     ]
    }
   ],
   "source": [
    "for item_gm_kit in data_gm_kit:\n",
    "    print(item_gm_kit.get_text())"
   ]
  },
  {
   "cell_type": "code",
   "execution_count": 9,
   "metadata": {},
   "outputs": [
    {
     "name": "stdout",
     "output_type": "stream",
     "text": [
      "'(170) ,(104) [(72) ](72) ((24) )(24) 테팔(14) 1+1(11) 프라이팬(9) 후라이팬(9) 락앤락(9) 인덕션(7) 28cm(6) 스카트(6) 해피콜(6) ``(5) 궁중팬(5) 키친아트(5) 현대백화점(4) 스마트(4) 풀세트(4) LG생활건강(4) 세균아꼼짝마(4) ABY(4) 손소독티슈(4) 3개(4) 수세미(4) 브리타(4) +(4) 식기건조대(4) 세트(4) 지퍼락(4) 하드티타늄(3) 엑설런스(3) 스텐(3) THE(3) 버블(3) 50매X3롤(3) 진공쌀통(3) 컴포트(3) 프리미엄(3) 글라스락(3) 지퍼백(3) IH(3) 실리콘(2) 이유식(2) 쏘엘레강스(2) 무료배송(2) 균일가(2) 키친플라워(2) "
     ]
    }
   ],
   "source": [
    "item_list_gm_kit = []\n",
    "\n",
    "for item_gm_kit in data_gm_kit:\n",
    "    items_gm_kit = item_gm_kit.get_text()\n",
    "    item_list_gm_kit.append(items_gm_kit)           \n",
    "\n",
    "str_itemlist_gm_kit = str(item_list_gm_kit)\n",
    "\n",
    "tokenized_gm_kit = nltk.word_tokenize(str_itemlist_gm_kit)\n",
    "\n",
    "word_dic_gm_kit = {}\n",
    "\n",
    "for word in tokenized_gm_kit:\n",
    "    if word not in word_dic_gm_kit:\n",
    "        word_dic_gm_kit[word] = 1 # changed from \"0\" to \"1\"\n",
    "    else:\n",
    "        word_dic_gm_kit[word] += 1\n",
    "        \n",
    "sorted_word_dic_gm_kit = sorted(word_dic_gm_kit.items(), key=lambda x:x[1], reverse=True)\n",
    "\n",
    "for word, count in sorted_word_dic_gm_kit[:50]:\n",
    "    print(\"{0}({1})\".format(word, count), end=\" \")"
   ]
  },
  {
   "cell_type": "code",
   "execution_count": 10,
   "metadata": {},
   "outputs": [
    {
     "data": {
      "image/png": "[encoded data removed]",
      "text/plain": [
       "<Figure size 1080x360 with 1 Axes>"
      ]
     },
     "metadata": {
      "needs_background": "light"
     },
     "output_type": "display_data"
    }
   ],
   "source": [
    "word_frequency_gm_kit = nltk.FreqDist(word_dic_gm_kit)\n",
    "\n",
    "font_name = matplotlib.font_manager.FontProperties(fname=\"C:/Windows/Fonts/malgun.ttf\").get_name() \n",
    "matplotlib.rc('font', family=font_name)\n",
    "\n",
    "gm_kit_df = pd.DataFrame(list(word_frequency_gm_kit.values()), word_frequency_gm_kit.keys())\n",
    "result_gm_kit = gm_kit_df.sort_values([0], ascending=False)\n",
    "result_gm_kit[6:56].plot(kind='bar', legend=False, figsize=(15,5))\n",
    "plt.show()"
   ]
  },
  {
   "cell_type": "markdown",
   "metadata": {},
   "source": [
    "### Top 100 _ 생활 / 주방 / 건강 (주방용품 상위 카테고리)"
   ]
  },
  {
   "cell_type": "code",
   "execution_count": 11,
   "metadata": {},
   "outputs": [
    {
     "name": "stdout",
     "output_type": "stream",
     "text": [
      "http://corners.gmarket.co.kr/Bestsellers?viewType=G&groupCode=G08\n"
     ]
    }
   ],
   "source": [
    "url_gm_life = 'http://corners.gmarket.co.kr/Bestsellers?viewType=G&groupCode=G08'\n",
    "\n",
    "res_gm_life = requests.get(url_gm_life)\n",
    "soup_gm_life = BeautifulSoup(res_gm_life.content, 'html.parser')\n",
    "data_gm_life = soup_gm_life.find_all('a', {'class':'itemname'})\n",
    "\n",
    "print(url_gm_life)"
   ]
  },
  {
   "cell_type": "code",
   "execution_count": 12,
   "metadata": {
    "scrolled": true
   },
   "outputs": [
    {
     "name": "stdout",
     "output_type": "stream",
     "text": [
      "\n",
      "\n",
      "\n",
      "\n",
      "\n",
      "퓨어커버 국내산 KF94 4중 마스크 대형 방역 황사 50매\n",
      "비비 국산 KF94 황사 미세먼지 마스크 대형 50매\n",
      "블랑슈 시그니처 블랙 아기물티슈 캡형 100매 10팩\n",
      "[다우니]초고농축 다우니 섬유유연제 엑스퍼트 실내건조 1L 3개\n",
      "[다샵]국산 일회용 마스크 화이트 100매\n",
      "[닥터펩스토리] KF94 마스크 (50매) \n",
      "kf94 마스크 블랙 대형 합리적인 비말차단 국내산 40매\n",
      "[다우니]초고농축 다우니 섬유유연제 베리베리 1L 3개\n",
      "[페리오]펌핑치약 285gX3종(스피아민트+허브+시트러스)\n",
      "KF94 4중필터 마스크 50매 개당758원/순차발송랜덤발송\n",
      "센스물티슈 악어 캡형 100매 10팩+10팩 /한장씩톡톡\n",
      "[크리넥스]크리넥스 실크소프트 250매X3입X3팩 /곽티슈\n",
      "[깨끗한나라]순수브라운 3겹 화장지 27m 30롤 2팩 (특가)\n",
      "[릴리안](골라담기)순수한면 ZERO 생리대 x 3+3팩\n",
      "폴라리스 국산 어린이용 3중 필터 일회용 마스크 50매\n",
      "[시크릿데이](2+2팩) 베스트셀러 러브생리대/오버나이트/라이너\n",
      "[스웰데이]욕실주방 곰팡이제거제 젤타입 250ml 1+1\n",
      "[미마마스크]SNS 입소문 (100% 국내 생산 무중력 마스크) 미마 보건용 KF94 마스크 화이트 50매\n",
      "KF94 황사 마스크 대형 국산 개별 포장 블랙 50매\n",
      "kf80 소형 코끼리패턴 어린이 마스크 40매 비말차단\n",
      "[다우니]초고농축 다우니 섬유유연제 화이트티 1L 3개\n",
      "[릴리유]릴리유 퓨어퍼플 물티슈 캡72매X10팩(1BOX)\n",
      "[인가드]인가드 국산 KF94 황사 미세먼지 마스크 대형 80매\n",
      "국산 식약처인증 KF-AD 입체형 비말차단 마스크 50매\n",
      "국산 KF-AD 비말차단 일회용 덴탈마스크 대형 100매\n",
      "[테리파머]호텔수건 무형광 180g 다이아보더 수건 10장 타올\n",
      "[아이러브베베]아이러브베베물티슈핑크100매캡형X20팩\n",
      "[다우니]다우니 대용량 섬유유연제 아로마플로럴 8.5L 2개 농축\n",
      "MS 치실 600p/치간칫솔/유아용치실/혀클리너/국산\n",
      "NEW땡큐 화장지 (30롤 x 2팩) / 3겹 두루마리 휴지\n",
      "[페리오]칫솔 H페리오 오리지널 미세모 칫솔 10+10+10\n",
      "북유럽 물빠짐 욕실화 1+1 외 리빙용품 50종 +사은품\n",
      "[스카트]스카트 THE 보송 습기제거제 20개(1BOX)\n",
      "[다우니]다우니 엑스퍼트 실내 건조 1L 4개\n",
      "국내생산 3중 마스크 100매 멜트블로운 일회용마스크\n",
      "[베베숲]아기물티슈 센시티브 엠보 캡 80매 10팩\n",
      "[모다아울렛]휴안청플러스 KF94 식약처인증 마스크 대형50매\n",
      "[페리오]치약 펌핑치약 285g(스피아민트 X 3개)\n",
      "[다샵]국산 일회용 마스크 화이트 50매\n",
      "KF94 마스크 100매 (개당 749원특가)순차발송/랜덤발송\n",
      "[베베앙]베베앙 아기물티슈  시그니처 대용량 100매 캡형 10팩\n",
      "[베이비베이비]베이비베이비 아기물티슈 트윙클120매 20팩 캡형\n",
      "[잘풀리는집]순수PURE 천연펄프 25m30롤 x3팩/휴지/화장지\n",
      "못 박지말고 초강력 자석 후크 10P\n",
      "[이놀]1+1 국내 실리콘 이유식 항균 도마\n",
      "[홈스타]홈스타 락스와세제 후로랄파인 750ML4+증정\n",
      "[깨끗한나라]순백블루 3겹 화장지 27m 30롤 x 3팩(특가)\n",
      "[나무야나무야]나무야나무야 소프트3겹데코 27m 30롤 3팩/화장지\n",
      "마미요 오리지널 물티슈 캡형 100매x20팩\n",
      "업계를 리드하는 기업 3SK택배박스\n",
      "[잘풀리는집]잘풀리는집 순수 프리미엄 30mx30롤 2팩/화장지\n",
      "[박스포유]100%직접생산/ 박스포유 택배박스\n",
      "[페리오]칫솔 이지클리닉 초극세모 칫솔 10+10+10+칫솔캡15\n",
      "[테팔](현대백화점)테팔 쏘엘레강스 볶음팬 28cm/쏘 엘레강스/멀티팬\n",
      "[잘풀리는집]잘풀리는집 비말(침방울) 차단안심마스크(대형)50매\n",
      "[에코후레쉬]세탁조클리너 100g x 9개_곰팡이세균 99.9% 제거\n",
      "코숨테이프 여름방학 이선균테이프 구강호흡방지 120회\n",
      "국내생산 3중 마스크 50매 멜트블로운 일회용마스크\n",
      "[쏘피]유기농순면 무표백 생리대 중형 18Px4팩\n",
      "[올리오]여름용 국내산 비말차단 일회용 3D입체마스크대형 50매\n",
      "kf80 소형 어린이 마스크 40매개별포장 비말차단 덴탈\n",
      "[인가드]세이프크린 KF94 황사 미세먼지 마스크 대형 50매\n",
      "[크리넥스]크리넥스 3겹 데코소프트 33MX24롤 X2팩화장지/휴지\n",
      "(바베파파) (신세계강남점)[브리스틱] 에르고 유아 칫솔 20개 세트\n",
      "[다우니]다우니 엑스퍼트 실내 건조 1L 6개\n",
      "[코디]기름먹는 UKP 키친타올 140매 4롤 3팩\n",
      "[다우니퍼퓸]초고농축 다우니 퍼퓸 섬유유연제 미스티크 1L 3\n",
      "세이프크린 KF80 황사 미세먼지 마스크 대형 50매\n",
      "[하비비]청개구리 자동 싱크대 클리너 세정제 3개\n",
      "[다샵]국산 일회용 마스크 블랙 50매\n",
      "[바른생활]더 좋은칫솔 초극세모 10입  1세트\n",
      "[아토세이프]매직싹 참숯 제습제 X 20개입 습기제거제 제습기 옷장\n",
      "[테팔](현대백화점)테팔 하드티타늄 엑설런스 인덕션 프라이팬 28CM\n",
      "[헬로]헬로 순수 3겹 천연펄프 화장지 30m 30롤 3팩 특가행사\n",
      "[베베숲]아기물티슈 프리미어 캡70매 20팩\n",
      "섬유유연제 피죤 프리미엄 18L\n",
      "바이올린6종채칼+감자칼/채칼/다지기/\n",
      "[부광약품]부광약품 파로덴트 틀니세정제 48정 x 2개\n",
      "[다우니퍼퓸]초고농축다우니 보타니스섬유유연제 스프링가든 1L 3개\n",
      "강블리라이프 블링 휴 30M 3겹 30롤 X 2팩/화장지/휴지\n",
      "[다우니]다우니 고농축섬유유연제 대용량 3.8L 레몬그라스 2개\n",
      "[크리넥스]데코 앤 소프트 화장지 27M30롤X2팩/휴지\n",
      "[릴리유]릴리유 퓨어그린 아기물티슈 캡 80매 10팩 E\n",
      "[테크액체세제]테크 파워액체세제 대용량 8L (일반/드럼겸용)\n",
      "[크리넥스]버블버블 핸드워시 손세정제 상큼750ml+그린750ml +RF.\n",
      "애트머스케어 KF-AD 비말차단 마스크 100장 세트(대형/화이트/5매x20)\n",
      "마스크스트랩 5개세트 마스크줄 마스크걸이 마스크끈\n",
      "[유한킴벌리]그린핑거 손소독물티슈 30매캡형X10팩(1BOX)\n",
      "[큐큐]QUQU 크린숨 비말차단마스크 KF-AD 대형 여름용 30매 .\n",
      "[벡셀]알카라인 AA 20알 + AAA 20알 추가건전지증정/무료배송\n",
      "그리니 프리미엄 아기물티슈 블루 100매 X 20팩 캡형\n",
      "[더블에이]더블에이 A4 복사용지(A4용지) 80g 5000매 2BOX\n",
      "[쏘피]안심숙면팬티 오버나이트 생리대 L 5P x 3팩+쿨링2P\n",
      "[나무야나무야]나무야 도톰한 3겹데코 30m 30롤 3팩/화장지/휴지\n",
      "[에버그린] [대형/70매]  KF80 황사마스크 70매\n",
      "[쉬크]면도기 면도날 하이드로5 프리미엄(기1+날9+폼)+케이스\n",
      "[베베숲]아기물티슈 시그니처 70매 캡 20팩 리뉴얼 블루\n",
      "마스크 꼼짝마스크 50매 KF94 황사 미세먼지 필터 대 a\n",
      "써니데이 KF94소형마스크 50매개별포장 손소독제 증정\n",
      "[덴티스테](최다구성/무불소 안전치약/초특가)덴티스테 플러스화이트 프리미엄 기능성 치약세트\n"
     ]
    }
   ],
   "source": [
    "for item_gm_life in data_gm_life:\n",
    "    print(item_gm_life.get_text())"
   ]
  },
  {
   "cell_type": "code",
   "execution_count": 13,
   "metadata": {},
   "outputs": [
    {
     "name": "stdout",
     "output_type": "stream",
     "text": [
      "'(170) ,(104) [(71) ](71) ((24) )(24) 마스크(23) 50매(16) 다우니(15) 대형(10) KF94(8) 아기물티슈(8) 100매(8) 황사(7) 국산(7) 1L(7) 비말차단(7) 30롤(7) 캡형(6) 3개(6) 일회용(6) 크리넥스(6) 3겹(6) x(6) ``(5) 미세먼지(5) 섬유유연제(5) 화장지(5) 칫솔(5) 잘풀리는집(5) 프리미엄(5) 블랙(4) 10팩(4) 초고농축(4) 페리오(4) 릴리유(4) KF-AD(4) 대용량(4) X(4) 20팩(4) 테팔(4) 국내산(3) 시그니처(3) 엑스퍼트(3) 다샵(3) 화이트(3) 'KF94(3) 27m(3) 생리대(3) 3중(3) "
     ]
    }
   ],
   "source": [
    "item_list_gm_life = []\n",
    "\n",
    "for item_gm_life in data_gm_life:\n",
    "    items_gm_life = item_gm_life.get_text()\n",
    "    item_list_gm_life.append(items_gm_life)           \n",
    "\n",
    "str_itemlist_gm_life = str(item_list_gm_life)\n",
    "\n",
    "tokenized_gm_life = nltk.word_tokenize(str_itemlist_gm_life)\n",
    "\n",
    "word_dic_gm_life = {}\n",
    "\n",
    "for word in tokenized_gm_life:\n",
    "    if word not in word_dic_gm_life:\n",
    "        word_dic_gm_life[word] = 1 \n",
    "    else:\n",
    "        word_dic_gm_life[word] += 1\n",
    "        \n",
    "sorted_word_dic_gm_life = sorted(word_dic_gm_life.items(), key=lambda x:x[1], reverse=True)\n",
    "\n",
    "for word, count in sorted_word_dic_gm_life[:50]:\n",
    "    print(\"{0}({1})\".format(word, count), end=\" \")"
   ]
  },
  {
   "cell_type": "code",
   "execution_count": 14,
   "metadata": {},
   "outputs": [
    {
     "data": {
      "image/png": "[encoded data removed]",
      "text/plain": [
       "<Figure size 1080x360 with 1 Axes>"
      ]
     },
     "metadata": {
      "needs_background": "light"
     },
     "output_type": "display_data"
    }
   ],
   "source": [
    "word_frequency_gm_life = nltk.FreqDist(word_dic_gm_life)\n",
    "\n",
    "font_name = matplotlib.font_manager.FontProperties(fname=\"C:/Windows/Fonts/malgun.ttf\").get_name() \n",
    "matplotlib.rc('font', family=font_name)\n",
    "\n",
    "gm_life_df = pd.DataFrame(list(word_frequency_gm_life.values()), word_frequency_gm_life.keys())\n",
    "result_gm_life = gm_life_df.sort_values([0], ascending=False)\n",
    "result_gm_life[6:56].plot(kind='bar', legend=False, figsize=(15,5))\n",
    "plt.show()"
   ]
  },
  {
   "cell_type": "code",
   "execution_count": 15,
   "metadata": {},
   "outputs": [
    {
     "name": "stdout",
     "output_type": "stream",
     "text": [
      "http://corners.gmarket.co.kr/Bestsellers?viewType=G&groupCode=G09\n"
     ]
    }
   ],
   "source": [
    "url_gm_fur = 'http://corners.gmarket.co.kr/Bestsellers?viewType=G&groupCode=G09'\n",
    "\n",
    "res_gm_fur = requests.get(url_gm_fur)\n",
    "soup_gm_fur = BeautifulSoup(res_gm_fur.content, 'html.parser')\n",
    "data_gm_fur = soup_gm_fur.find_all('a', {'class':'itemname'})\n",
    "\n",
    "print(url_gm_fur)"
   ]
  },
  {
   "cell_type": "code",
   "execution_count": 16,
   "metadata": {
    "scrolled": true
   },
   "outputs": [
    {
     "name": "stdout",
     "output_type": "stream",
     "text": [
      "\n",
      "\n",
      "\n",
      "\n",
      "\n",
      "[르헤브]1+1 시원한 메밀베개/편백베개/여름 베개/아동베개\n",
      "[에이블루]커블체어 와이더 20년형 자세교정의자 출시\n",
      "[이노하우스]슈퍼특가 액자형 DIY 보석십자수 세트 유화 그림 명화\n",
      "[나크제이]1+1 디퓨저 500ml + 500ml + 스틱세트/탈취제/방향제\n",
      "[르헤브]꿉꿉함 제로 시원한 여름 쇼파패드/사계절 쇼파패드\n",
      "국산 순면 두툼한 누빔 매트리스커버/침대/매트/커버\n",
      "[쁘리엘르]3중직 벽걸이 스탠드 에어컨커버/선풍기커버\n",
      "[아이르]아이르 먼지없는 나노화이바 차렵 이불단품\n",
      "[4종세트] 박나래 기절베개 속통1.1kgx4개+커버4/그레이\n",
      "[한샘]루미에 원형 테이블 라탄 (5종/택1) 사각 거실테이블\n",
      "지금부터 쭉 항균 차렵이불 토퍼 침구 풀세트 (퀸)\n",
      "[리바트온라인]리바트온라인 꼼므 1200 아이책상 + 유아의자\n",
      "[비트백]액자형 DIY 보석십자수 명화그리기/비즈/그림/큐빅\n",
      "[에이블루]커블체어_와이더/컴피 바른자세 허리 교정의자 모음\n",
      "[쁘리엘르]삼각등쿠션 바디필로우 인테리어 쿠션 커버 솜포함\n",
      "[쉬즈홈]부드럽고 폭신한 자카드 발매트 1+1\n",
      "일루션 암막커튼 최대 1+1 (2장) 베스트셀러전\n",
      "[쉬즈홈]쾌적하고 산뜻한 시어서커 여름 베개커버 1+1\n",
      "[기타브랜드] [무료배송]커블 체어 와이더 자세교정 의자\n",
      "[듀오백]DK 043W 회의실의자 독서실의자 공부의자 본사직영\n",
      "[에이블루]NEW 커블체어 컴피 바른자세 교정의자 등쿠션\n",
      "[퍼스퍼코리아]무료반품 랭킹1위 컴퓨터 학생 사무용 공부 책상의자\n",
      "항균 매트리스커버 누빔 순면 방수 매트커버 침대커버\n",
      "[아이리스코리아]3단 칼라 웨이브 공간박스 수납장 KSB-3S\n",
      "[리바트온라인]마카롱 1200 슬라이딩 책장 전면형\n",
      "(특가)국산튼튼한 조립식 렌지대 다이 전자렌지수납장\n",
      "[아이르]국내산 매트리스커버 /침대커버/누빔패드/모달/순면\n",
      "[쁘리엘르]1+1 피그먼트 베개커버/순면 베개커버/방수베개커버\n",
      "[미라벨]미라벨 발편한 주방매트 싱글형\n",
      "[아트홀릭]액자형 DIY 보석십자수 액자 비즈 유화 명화그리기\n",
      "1~6인 키높이 접이식테이블 좌식책상 밥상 이반가구01\n",
      "[이노하우스]사계절 접착식 단열벽지 30/20M 정품 보냉 시트지\n",
      "[리브맘]7존 기절 매트리스 침대 접이식 바닥 토퍼 수면매트\n",
      "(보드래) 여름 침대커버 누빔매트리스커버 패드 이불\n",
      "유아 방수패드 온가족용 낮잠이불 시어서커 순면\n",
      "하포스 국내산 정품 단면매트리스\n",
      "DIY 액자형 비즈 보석십자수 명화그리기 그림 유화\n",
      "일루일루 라이트 G-지타이탄 게이밍 체어 3색상\n",
      "냉감 여름 침대매트리스커버 알러지케어/순면/극세사\n",
      "DIY 보석십자수 액자형 아이러브페인팅 큐빅 비즈\n",
      "[창안애]콤비블라인드 롤스크린/브라인드/암막/커튼/커텐/거실\n",
      "뷰하우스 4계절 암막커튼1+1(2장)\n",
      "유니크한 패턴감각 대쿠션(솜포함) 등쿠션/바디필로우\n",
      "[국민가구]스틸책상테이블/컴퓨터책상/철재책상/사무용\n",
      "1+1 항균 누빔 스프레드 침대패드 이불패드 여름이불\n",
      "[이블랑]고밀도 고탄력 방수 소파커버 1인용~4인용 28컬러\n",
      "[까르데코]1+1 암막커튼 속지 아이방/안방/거실 햇빛차단\n",
      "[체어스코]누적판매 1위 컴퓨터/책상/학생/사무용의자\n",
      "[포스트모던]최대20%쿠폰 컴퓨터책상 독서실책상 학생 책상 책꽂이\n",
      "(1+1) 사계절 3중직 암막커튼 거실커튼 창문커튼 커텐\n",
      "[아이닉스]순면 누빔 침대매트리스커버 침대커버 방수커버 패드\n",
      "[다샵]3중직 벽걸이 스탠드 에어컨커버 제습기 선풍기커버\n",
      "[데일리콤마]디퓨저 본품 100ml 1+1+1+1 / 전성분공개 착한디퓨저\n",
      "박세리식탁 키높이밥상/교자상/접이식테이블/좌식책상\n",
      "[하이홈테크]반짝특가 인테리어 단열벽지 20/30M 접착식\n",
      "[쁘리엘르]레이스 슬라브 쉬폰 커튼 커텐 나비주름 거실커튼\n",
      "[센스맘]센스맘 에어매트리스 9존 12cm 퀸(Q)\n",
      "[하포스]하포스 국내산 서랍형침대 매트리스포함\n",
      "상나라1인용~6인용접이식밥상 교자상 테이블 좌탁 상\n",
      "[몬스터클리어겔] 1롤(1m) 7개+7개(총14개) 세트\n",
      "[아르페지오베이직]시원한 쿨잠 여름 소재 홑이불 시어서커/면리플/인견\n",
      "대형 명화그리기  DIY (60 X 75cm) 유화 그림 세트\n",
      "특가 누빔 요커버 S/D/Q/요솜/순면/요매트/요/커버\n",
      "[양키캔들][양키캔들] 라지자 모음전\n",
      "[아라크네]콤비블라인드 롤스크린/브라인드/암막/커튼/커텐/거실\n",
      "제이준리빙 마카롱/시어서커 소파패드\n",
      "[아이르]국내산 시원한 시어서커 여름 홑겹이불 특가\n",
      "항균 고주파 스프레드+패드+베개커버세트\n",
      "[리브맘]눕자마자 꿀잠~ 초고밀도 메모리폼베개 경추베개\n",
      "숨쉬는 침대 매트리스 깔판 높낮이 선택 슈퍼싱글 퀸\n",
      "쿨링 인견 토퍼 1+1 (슈퍼싱글/퀸/킹)\n",
      "[아망떼]먼지없는 알러지케어 침대패드/순면 침대패드/토퍼\n",
      "[아망떼]부드러운 60수 순면 아사 피그먼트 이불/침대패드\n",
      "[담아드림]담아드림 시즌2  특허받은 분리수거함+롤백 1년치(4\n",
      "[동서가구]1200 서랍 주방수납장 리챈시리즈 (인기상품) DF910443\n",
      "홈바의자/아일랜드/식탁/ 바/빠텐/인테리어/스툴/바텐\n",
      "무소음벽시계인기상품/학교/사무실/국내생산\n",
      "은남침구2020 여름이불/일본수출 쿨소재/아사면/인견\n",
      "[우드윅]더스윗캔들워머+양키캔들or우드윅/전구2개/디퓨저향초\n",
      "동물롱베개-밀로앤개비 애착베개\n",
      "방탄소년단 보석십자수 유화그리기 굿즈 큐빅페인팅\n",
      "순면 모달 먼지없는 차렵이불세트 침구세트\n",
      "여름 커튼 (1+1) 내추럴 코지 커튼/암막/커텐/커튼봉\n",
      "땀 걱정없는 쿨소재 여름 누빔패드/시어서커/침대패드\n",
      "[듀오백]DK 922 패브릭 좌식의자 폴딩형 본사직영\n",
      "[조은세상]일자형 H형 컴퓨터 책상 사무실 테이블 1인용 학생\n",
      "알러지케어 베개 1+1 2장 냉감 베게커버 순면/극세사\n",
      "[라레스가구]조건부당일배송/엘레나 책장/3단4단5단/책꽂이/수납장\n",
      "클릭B 메쉬의자/사무용/학생/컴퓨터의자\n",
      "[상일리베가구](20%+5천원중복)부동의1위 아이언 드레스룸 행거 옷장\n",
      "led 방등 거실등 등 기구 형광등 조명 LG\n",
      "DIY 액자형 비즈 보석십자수 명화그리기 그림 유화\n",
      "[에이픽스]컴퓨터 게이밍의자 GC001 울프 WOLF 레이싱체어 180도\n",
      "미니테이블라운드(우드) 다용도테이블 접이식테이블\n",
      "[쁘리엘르]매트리스커버/침대패드/누빔매트커버/방수매트\n",
      "[에이블루]커블체어 키즈 바른자세교정 서포트 의자\n",
      "국산 630g 르미에 라지자캔들 아로마향초 캔들워머\n",
      "[오아]플라이트 무선 LED 책상 스탠드 조명 독서등\n",
      "[상일리베가구](20%쿠폰)더스틸  철제책상  1인용 컴퓨터책상\n",
      "항균 워싱 누빔이불 1+1+1세트(퀸)\n"
     ]
    }
   ],
   "source": [
    "for item_gm_fur in data_gm_fur:\n",
    "    print(item_gm_fur.get_text())"
   ]
  },
  {
   "cell_type": "code",
   "execution_count": 17,
   "metadata": {},
   "outputs": [
    {
     "name": "stdout",
     "output_type": "stream",
     "text": [
      "'(166) ,(104) [(63) ](63) ((20) )(19) 1+1(12) 보석십자수(7) 여름(7) 액자형(6) ``(5) 유화(5) 순면(5) 누빔(5) 쁘리엘르(5) 시원한(4) 에이블루(4) DIY(4) 그림(4) 아이르(4) 퀸(4) 국내산(4) 비즈(4) 명화그리기(4) 커블체어(3) 세트(3) +(3) 3중직(3) 스탠드(3) 먼지없는(3) 테이블(3) 토퍼(3) 리바트온라인(3) 1200(3) 암막커튼(3) 2장(3) 시어서커(3) 컴퓨터(3) 학생(3) '항균(3) 침대커버(3) 'DIY(3) %(3) 책상(3) 르헤브(2) 와이더(2) 이노하우스(2) 디퓨저(2) 500ml(2) '국산(2) "
     ]
    }
   ],
   "source": [
    "item_list_gm_fur = []\n",
    "\n",
    "for item_gm_fur in data_gm_fur:\n",
    "    items_gm_fur = item_gm_fur.get_text()\n",
    "    item_list_gm_fur.append(items_gm_fur)           \n",
    "\n",
    "str_itemlist_gm_fur = str(item_list_gm_fur)\n",
    "\n",
    "tokenized_gm_fur = nltk.word_tokenize(str_itemlist_gm_fur)\n",
    "\n",
    "word_dic_gm_fur = {}\n",
    "\n",
    "for word in tokenized_gm_fur:\n",
    "    if word not in word_dic_gm_fur:\n",
    "        word_dic_gm_fur[word] = 1 \n",
    "    else:\n",
    "        word_dic_gm_fur[word] += 1\n",
    "        \n",
    "sorted_word_dic_gm_fur = sorted(word_dic_gm_fur.items(), key=lambda x:x[1], reverse=True)\n",
    "\n",
    "for word, count in sorted_word_dic_gm_fur[:50]:\n",
    "    print(\"{0}({1})\".format(word, count), end=\" \")"
   ]
  },
  {
   "cell_type": "code",
   "execution_count": 18,
   "metadata": {},
   "outputs": [
    {
     "data": {
      "image/png": "[encoded data removed]",
      "text/plain": [
       "<Figure size 1080x360 with 1 Axes>"
      ]
     },
     "metadata": {
      "needs_background": "light"
     },
     "output_type": "display_data"
    }
   ],
   "source": [
    "word_frequency_gm_fur = nltk.FreqDist(word_dic_gm_fur)\n",
    "\n",
    "font_name = matplotlib.font_manager.FontProperties(fname=\"C:/Windows/Fonts/malgun.ttf\").get_name() \n",
    "matplotlib.rc('font', family=font_name)\n",
    "\n",
    "gm_fur_df = pd.DataFrame(list(word_frequency_gm_fur.values()), word_frequency_gm_fur.keys())\n",
    "result_gm_fur = gm_fur_df.sort_values([0], ascending=False)\n",
    "result_gm_fur[7:70].plot(kind='bar', legend=False, figsize=(15,5))\n",
    "plt.show()"
   ]
  }
 ],
 "metadata": {
  "kernelspec": {
   "display_name": "Python 3",
   "language": "python",
   "name": "python3"
  },
  "language_info": {
   "codemirror_mode": {
    "name": "ipython",
    "version": 3
   },
   "file_extension": ".py",
   "mimetype": "text/x-python",
   "name": "python",
   "nbconvert_exporter": "python",
   "pygments_lexer": "ipython3",
   "version": "3.7.3"
  }
 },
 "nbformat": 4,
 "nbformat_minor": 2
}
