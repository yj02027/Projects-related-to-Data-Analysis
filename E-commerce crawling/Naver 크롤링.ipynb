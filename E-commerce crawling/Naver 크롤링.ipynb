{
 "cells": [
  {
   "cell_type": "markdown",
   "metadata": {},
   "source": [
    "### Naver    (의류, 스포츠 용품, 화장품, 가전, 식품, 육아용품 제외)"
   ]
  },
  {
   "cell_type": "code",
   "execution_count": 1,
   "metadata": {},
   "outputs": [],
   "source": [
    "import requests\n",
    "from bs4 import BeautifulSoup\n",
    "import numpy as np\n",
    "import pandas as pd\n",
    "import matplotlib\n",
    "import matplotlib.pyplot as plt\n",
    "from matplotlib import font_manager, rc\n",
    "import nltk"
   ]
  },
  {
   "cell_type": "markdown",
   "metadata": {},
   "source": [
    "### 쇼핑 인기검색어 Top10 (Daily Update)"
   ]
  },
  {
   "cell_type": "code",
   "execution_count": 2,
   "metadata": {},
   "outputs": [
    {
     "name": "stdout",
     "output_type": "stream",
     "text": [
      "https://search.shopping.naver.com/best100v2/main.nhn\n"
     ]
    }
   ],
   "source": [
    "url_naver = 'https://search.shopping.naver.com/best100v2/main.nhn'\n",
    "res_naver = requests.get(url_naver)\n",
    "soup_naver = BeautifulSoup(res_naver.content, 'html.parser')\n",
    "\n",
    "\n",
    "print(url_naver)"
   ]
  },
  {
   "cell_type": "code",
   "execution_count": 3,
   "metadata": {},
   "outputs": [
    {
     "name": "stdout",
     "output_type": "stream",
     "text": [
      "1위 : KF94 마스크\n",
      "2위 : 마스크 스트랩\n",
      "3위 : 마스크\n",
      "4위 : 헤드셋\n",
      "5위 : 면도기\n",
      "6위 : KF80 마스크\n",
      "7위 : 비접촉 체온계\n",
      "8위 : 닌텐도 스위치\n",
      "9위 : KF94 마스크 100매\n",
      "10위 : 비말차단마스크\n"
     ]
    }
   ],
   "source": [
    "top_keywords = soup_naver.find_all('span', {'class':'txt'})[:10]\n",
    "for index, keyword_tag in enumerate(top_keywords):\n",
    "    print('{}위 : {}'.format(index+1, keyword_tag.get_text()))"
   ]
  },
  {
   "cell_type": "markdown",
   "metadata": {},
   "source": [
    "### 주방용품 Top 100"
   ]
  },
  {
   "cell_type": "code",
   "execution_count": 4,
   "metadata": {},
   "outputs": [
    {
     "name": "stdout",
     "output_type": "stream",
     "text": [
      "https://search.shopping.naver.com/best100v2/detail.nhn?catId=50000061\n"
     ]
    }
   ],
   "source": [
    "url_naver_kit = 'https://search.shopping.naver.com/best100v2/detail.nhn?catId=50000061'\n",
    "\n",
    "res_naver_kit = requests.get(url_naver_kit)\n",
    "soup_naver_kit = BeautifulSoup(res_naver_kit.content, 'html.parser')\n",
    "data_naver_kit = soup_naver_kit.select('#productListArea > ul > li > p > a')\n",
    "\n",
    "print(url_naver_kit)"
   ]
  },
  {
   "cell_type": "code",
   "execution_count": 5,
   "metadata": {},
   "outputs": [
    {
     "data": {
      "text/plain": [
       "['스타벅스 DT 스탠리 스트로 보온병 591ml',\n",
       " '램프쿡 자동회전냄비',\n",
       " '포유아이엔씨 포유 킵 대용량텀블러 900ml',\n",
       " '스타벅스 SS 엘마 헤리티지 텀블러 473ml',\n",
       " '써모스 보온도시락 TKLF-1200F',\n",
       " '스탠리 어드벤처 진공 퀜처 887미리',\n",
       " '휘슬러 5인 수저세트 코리안 커트러리 10p',\n",
       " '스타벅스 SS DW 그린 워드마크 투고 텀블러...',\n",
       " '써모스 보온도시락 TKLD-1601F',\n",
       " '씨앤티커머스 리브라 주방 전자저울 LS301',\n",
       " '세모금 종이컵 4000매',\n",
       " '스타벅스 컬러체인징 리유저블 콜드컵세트 ...',\n",
       " '스타벅스 스텐 콜드컵 473ml',\n",
       " '스타벅스 SS 블랙 헤리티지 뉴턴 텀블러 35...',\n",
       " '스타벅스 SS 콩코드 사이렌 화이트 텀블러 ...',\n",
       " '테팔 스페셜 에디션 3종세트',\n",
       " '써모스 원터치머그 텀블러 보온보냉병 0.4L...',\n",
       " '카스 전자저울 WZ-2D',\n",
       " '드롭스 IH 프라이팬',\n",
       " '포트메리온 보타닉가든 악센트볼 5P',\n",
       " '슈나츠 5종 세라믹 코팅 칼 세트',\n",
       " '조지루시 초슬림 원터치 보온보냉병 360ml ...',\n",
       " '벨리체 식기건조대 소형',\n",
       " '스타벅스 SS 그린 처비 핸들 텀블러 473ml',\n",
       " '써모스 원터치 머그형 보온보냉병 0.5L JNL...',\n",
       " '벨라쿠진 잼팟 6L + 유리뚜껑 세트',\n",
       " '요리즐 슬렌더 소금 후추 그라인더',\n",
       " '몽블랑 에펠 프리미엄 에디션 수저세트 2p',\n",
       " '틸만 인덕션 전용 프라이팬',\n",
       " '드레텍 주방저울 KS-605',\n",
       " '락앤락 슬림 양념통 6P세트 (HPL949S6)',\n",
       " 'NHB 그라인더 1P',\n",
       " '지앤지비 필모아 록키 텀블러 900ml',\n",
       " '트라이앵글 줄리엔 커터',\n",
       " '해피콜 샤인블랙 다이아몬드코팅 포셀 프라...',\n",
       " '헹켈 아시아형 2종 세트 HK30144-000',\n",
       " '스타벅스 SS 에치드 텀블러 473ml',\n",
       " '가쿠리 토리베가위 KS-203',\n",
       " '제이비제이 코모드 2단 식기건조대 기본형',\n",
       " '진한공업 도블레 칼집나지 않는 항균 이유식...',\n",
       " '도시샤 모슈 보온보냉 주전자 1000ml',\n",
       " '킨토 데이오프 텀블러 500ml 1P',\n",
       " '해피콜 IH 티타늄 냄비 4종 세트',\n",
       " '스타벅스 SS 컨투어 워드마크 텀블러 355ml',\n",
       " '해피콜 다이아몬드 포셀 프라이팬 3종  ',\n",
       " '테팔 이모션 프라이팬',\n",
       " '글래드 식품포장용 랩 프레스앤씰 매직랩 점...',\n",
       " '키친구 스핀 야채 다지기 소',\n",
       " '락앤락 진공 쌀통 20kg',\n",
       " '아소리빙 토프 칸칸 냉장고 냉동실 정리 수...',\n",
       " '피터스팬트리 스마트 키친저울',\n",
       " '해피콜 다이아몬드 포셀 프라이팬',\n",
       " '스타벅스 캠핑컵 핸들머그 다용도컵 355ml',\n",
       " '롬버스 키친타올걸이 마그넷 홀더',\n",
       " '스탠리 어드벤쳐 진공퀜처 591ml',\n",
       " '해피콜 다이아몬드코팅 포셀 궁중팬',\n",
       " '한샘 커브드 식기건조대 2단',\n",
       " '해피콜 점보 그릴 양면팬 30cm',\n",
       " '마리슈타이거 프로페셔널 양면숫돌 + 연마가...',\n",
       " '해피콜 클래식 다이아몬드 냄비 2종 세트',\n",
       " '씨엠코퍼레이션 까사마미 블랙라벨 식기 건...',\n",
       " '도시샤 모슈 보온보냉 라떼 텀블러 330ml',\n",
       " '한국도자기 로얄 페일블루 커피잔 세트 2인...',\n",
       " '스타벅스 SS DW 클래식 투고 텀블러 473ml',\n",
       " '한샘 인덱스 도마 세트 3P',\n",
       " '퀸센스 가스통을 덮지 않는 안심멀티 고기불...',\n",
       " '해피콜 플렉스 팬 IH',\n",
       " '스타벅스 SS 엘마 클래식 화이트 텀블러 35...',\n",
       " '대명아이넥스 아이넥스 뉴더블원터치기둥 2...',\n",
       " '미소담은 진공 쌀통 25kg',\n",
       " '스타벅스 리유저블 벤티 콜드컵 710ml 2개',\n",
       " '락앤락 하드앤라이트 웍',\n",
       " '까사니 쿠치나 IH 멀티팟 4.3L',\n",
       " 'KOMAX 아이스박스 40L',\n",
       " '마리슈타이거 멀티 칼 가위 갈이 샤프너',\n",
       " '칼리타 핸드밀 KH-3',\n",
       " '엠지엠씨 플루딕 식기건조대',\n",
       " '락앤락 대용량 파통 3.4L HPL848',\n",
       " '락앤락 쿡플러스 하드앤라이트 프라이팬',\n",
       " '테콘 곰돌이 안전통 채칼세트',\n",
       " '퀸센스 2단 찜냄비',\n",
       " '스타벅스 레마 텀블러 473ml',\n",
       " '스탠리 GO 진공 텀블러 473ml',\n",
       " '포트메리온 컨템포러리 머그 0.36L 4P',\n",
       " '세렌디 주방 전자저울 CS-1000',\n",
       " '바네스데코 실리콘 조리도구 세트 8P',\n",
       " '스타벅스 SS 블랙 헤리티지 오드리 텀블러 ...',\n",
       " '한샘 와이드 시스템 식기건조대 2단',\n",
       " '크린랲 고무장갑 미니 소',\n",
       " '록키마운틴 스텐 텀블러 대용량 900ml',\n",
       " '씨앤티커머스 리브라 주방 전자저울 LS400',\n",
       " '이엔코리아 젤 아이스팩 특소 1P',\n",
       " '윈닥스 로이첸 비타스 야채탈수기',\n",
       " '로얄베일 구뜨 무균열 내열냄비 전골뚝배기',\n",
       " '800도씨 우드핸들 무쇠팬 블랙아이언',\n",
       " '카플라노 컴프레소 1P',\n",
       " '스타벅스 JNO 마블 화이트 보온병 500ml',\n",
       " '씨엠코퍼레이션 까사마미 블랙라벨 식기건조...',\n",
       " '포트메리온 보타닉가든 10cm 미니디쉬 6P',\n",
       " '나인웨어 볼륨 와이드 식기건조대']"
      ]
     },
     "execution_count": 5,
     "metadata": {},
     "output_type": "execute_result"
    }
   ],
   "source": [
    "item_list_naver_kit = []\n",
    "for item in data_naver_kit:\n",
    "    items_naver_kit = item.get_text()\n",
    "    item_list_naver_kit.append(items_naver_kit)           \n",
    "\n",
    "item_list_naver_kit"
   ]
  },
  {
   "cell_type": "code",
   "execution_count": 6,
   "metadata": {},
   "outputs": [
    {
     "name": "stdout",
     "output_type": "stream",
     "text": [
      "'(100) ,(99) ...(19) '스타벅스(17) 텀블러(17) SS(10) 세트(8) '해피콜(8) 473ml(7) 프라이팬(6) 식기건조대(6) '락앤락(5) '써모스(4) 진공(4) 전자저울(4) IH(4) 1P(4) 포셀(4) 2단(4) 900ml(3) 헤리티지(3) '스탠리(3) 주방(3) 화이트(3) 보온보냉병(3) '포트메리온(3) 다이아몬드(3) '한샘(3) 클래식(3) 보온병(2) 591ml(2) 엘마(2) 보온도시락(2) 수저세트(2) DW(2) 그린(2) 워드마크(2) 투고(2) '씨앤티커머스(2) 리브라(2) 리유저블(2) 스텐(2) 콜드컵(2) 블랙(2) 35(2) '테팔(2) 에디션(2) 보타닉가든(2) 칼(2) 원터치(2) "
     ]
    }
   ],
   "source": [
    "str_itemlist_naver_kit = str(item_list_naver_kit)\n",
    "tokenized_naver_kit = nltk.word_tokenize(str_itemlist_naver_kit)\n",
    "word_dic_naver_kit = {}\n",
    "\n",
    "for word in tokenized_naver_kit:\n",
    "    if word not in word_dic_naver_kit:\n",
    "        word_dic_naver_kit[word] = 1 \n",
    "    else:\n",
    "        word_dic_naver_kit[word] += 1\n",
    "        \n",
    "sorted_word_dic_naver_kit = sorted(word_dic_naver_kit.items(), key=lambda x:x[1], reverse=True)\n",
    "\n",
    "for word, count in sorted_word_dic_naver_kit[:50]:\n",
    "    print(\"{0}({1})\".format(word, count), end=\" \")"
   ]
  },
  {
   "cell_type": "code",
   "execution_count": 8,
   "metadata": {},
   "outputs": [
    {
     "data": {
      "image/png": "[encoded data removed]",
      "text/plain": [
       "<Figure size 1080x360 with 1 Axes>"
      ]
     },
     "metadata": {
      "needs_background": "light"
     },
     "output_type": "display_data"
    }
   ],
   "source": [
    "word_frequency_naver_kit = nltk.FreqDist(word_dic_naver_kit)\n",
    "font_name = matplotlib.font_manager.FontProperties(fname=\"C:/Windows/Fonts/malgun.ttf\").get_name() \n",
    "matplotlib.rc('font', family=font_name)\n",
    "\n",
    "naver_kit_df = pd.DataFrame(list(word_frequency_naver_kit.values()), word_frequency_naver_kit.keys())\n",
    "result_naver_kit = naver_kit_df.sort_values([0], ascending=False)\n",
    "\n",
    "result_naver_kit[3:53].plot(kind='bar', legend=False, figsize=(15,5))\n",
    "plt.show()"
   ]
  },
  {
   "cell_type": "markdown",
   "metadata": {},
   "source": [
    "### 가구, 인테리어 Top 100"
   ]
  },
  {
   "cell_type": "code",
   "execution_count": 9,
   "metadata": {},
   "outputs": [
    {
     "name": "stdout",
     "output_type": "stream",
     "text": [
      "https://search.shopping.naver.com/best100v2/detail.nhn?catId=50000004&listType=B10002\n"
     ]
    }
   ],
   "source": [
    "url_naver_fur = 'https://search.shopping.naver.com/best100v2/detail.nhn?catId=50000004&listType=B10002'\n",
    "\n",
    "res_naver_fur = requests.get(url_naver_fur)\n",
    "soup_naver_fur = BeautifulSoup(res_naver_fur.content, 'html.parser')\n",
    "data_naver_fur = soup_naver_fur.select('#productListArea > ul > li > p > a')\n",
    "\n",
    "print(url_naver_fur)"
   ]
  },
  {
   "cell_type": "code",
   "execution_count": 10,
   "metadata": {},
   "outputs": [
    {
     "data": {
      "text/plain": [
       "['왕자행거 2단 너비조절기획 행거',\n",
       " '티단추 기구 T단추 SET',\n",
       " '해바라기 그림 액자 황금 배경 B 돈나무 부...',\n",
       " '엠델 우리하루 큐어백 플러스 등받이쿠션',\n",
       " '수면공감 우유베개 라텍스 기능성 경추',\n",
       " '엔젤키드 슬라이딩 어드밴스 뉴프리미엄 침...',\n",
       " '팜데코 삼각 등받이쿠션 침대 쇼파',\n",
       " '아이엔지가구 알렉스 1200 높은 수납장',\n",
       " '미드브로 에어컨 실외기 커버 열차단 절전 ...',\n",
       " '스스디 슬라이딩 틈새수납장',\n",
       " '퓨어앤슬립 천연라텍스베개',\n",
       " '투케이 규조토 발매트 욕실 화장실 다혈질냥...',\n",
       " '유즈 삼각 등쿠션 9컬러 에어메쉬 등받이 침...',\n",
       " '솜포함 순면 원형 롱쿠션 바디필로우 피그먼...',\n",
       " '아워리빙 4색상 테니스공 의자다리커버 의자...',\n",
       " '어니우니 그리드 라지자 캔들워머',\n",
       " '아이엔지가구 알렉스 월플렉스 시스템 수납...',\n",
       " '이케아 MULIG 행거',\n",
       " '왕자행거 원터치 4단 조절 행거 38mm',\n",
       " '오피스존 투명 가림판 책상 급식실 가림막 ...',\n",
       " 'DIY 명화그리기 그림 액자 팝아트 유화 퍼즐...',\n",
       " '비카데코데크타일 조립식마루바닥재',\n",
       " '썬그립 티단추 13컬러 똑딱이',\n",
       " '한샘 샘키즈 수납장 1305 모던',\n",
       " '시예로 1+1 홈바의자 바스툴 CR-B227 빈티지...',\n",
       " '삼익가구 U자형 바디필로우 레그필로우',\n",
       " '카이르 홈 국산 LG 젤 여름 아이스 냉 쿨젤...',\n",
       " '하나리빙 데코 우드타일 접착식 22장세트',\n",
       " '리빈 에어컨 실외기 절전 덮개 커버 차양막...',\n",
       " '플라이토 3D LED 무소음 벽걸이시계',\n",
       " '아이엠듀 엘듀 LED 수유등 취침등 무드등',\n",
       " '황금 해바라기 돈나무 사과 인테리어 액자 ...',\n",
       " '알파 심플 합성피혁 친환경 인조가죽 레자 ...',\n",
       " '루피 Luffy 종이실',\n",
       " '이케아 LERBERG 와이드 철제 4단선반',\n",
       " '스테이의자/식탁의자/카페 책상의자/컴퓨터',\n",
       " '더프리그 로망스 물세탁 사계절 심플 단모 ...',\n",
       " '왕자행거 2단 조절 행거 38mm',\n",
       " '라움 스퀘어 테이블 식탁 라운드 1200',\n",
       " '수니홈 기대미 삼각 등받이 쿠션 중형 침대...',\n",
       " '라이프굿즈 꼬북베개',\n",
       " 'babyBBZ 슬라이딩 침대가드 높이조절 최대8...',\n",
       " 'NEW 커블체어 와이더 바른자세 허리 교정의...',\n",
       " '왕자행거 뉴 이동식 조절 선반 행거',\n",
       " '리바트이즈마인 꼼므 주니어 수납 침대 프레...',\n",
       " '아이엔지가구 알렉스 800 수납장 화이트',\n",
       " '매직 허리조절 청바지 빈티지 단추 바지 수...',\n",
       " '핀란디아 뉴캠프 벙커침대',\n",
       " '오스람 삼파장 형광등 FPL 32W',\n",
       " '아라홈 코잠베개 경추 숙면 낮은 기능성 목...',\n",
       " '에덴미술 돈들어오는 금전운 재물복 황금 해...',\n",
       " '호텔식 프리미엄 순면 욕실 발수건 타올 발...',\n",
       " '마켓비 LEITER 선반 600 넓은 4단',\n",
       " '에이비퍼니쳐 빈홈바 아일랜드식탁의자',\n",
       " '인조대리석 아일랜드 홈바 식탁',\n",
       " '아트조이 DIY 보석십자수 캔버스형',\n",
       " '동물 고양이 냉장고자석 후크 열쇠 마스크 ...',\n",
       " '크라운퍼니쳐 카페에디트 멀바우 원목 아일...',\n",
       " '시디즈 S500ACF 링고 학생용의자 고정형 + ...',\n",
       " '구디푸디 빨아쓰는 규조토 발매트 분말형',\n",
       " '데크타일 조립식마루바닥재베란다원목',\n",
       " '예일가구 고무나무 원목 로렌 II 4인용 6 식...',\n",
       " '계절드림 쿨매트 냉수 침대 패드 쿨젤 쿨링...',\n",
       " '듀오백 DK 922 패브릭 좌식의자 폴딩형',\n",
       " '한샘 샘키즈 수납장 1005 좁은형',\n",
       " '나코자요 다리베개 베게배게 롱쿠션 바디필...',\n",
       " '소프런 일회용앞치마 A타입 100매',\n",
       " '커버리코 와플핏 소파커버 모음전',\n",
       " '일회용앞치마 S타입',\n",
       " '실내디퓨저 블랙체리 방향제 천연 화장실 설...',\n",
       " '에이픽스 1인용 컴퓨터 게이밍 데스크 GD00...',\n",
       " '번개표 LED 십자등 50W',\n",
       " '아이엔지가구 블랑 2000 주방수납장 8종 키...',\n",
       " '이열치냉 쿨매트 여름 냉매트 쿨젤 쿨링',\n",
       " '핸디크베개 경추 메모리폼 낮은 숙면 기능성',\n",
       " '민스토어 테니스공 의자다리커버 십자컷팅 ...',\n",
       " '비스토어 무소음 아날로그 벽 인테리어 벽걸...',\n",
       " '리빙모어 3인용 쇼파커버 소파 투톤인테리어',\n",
       " '국산 티단추 T단추',\n",
       " '천일 100 Series 베란다 사무실 거실 방염 ...',\n",
       " '테이블앤테이블 오브 실리콘 식탁매트',\n",
       " '쿤달 퍼퓸 디퓨저 200ml 2구 세트',\n",
       " '베란다 조립식마루 바닥재 바닥 타일 장판',\n",
       " '양키캔들 스몰자 모음전',\n",
       " '우산비닐/짧은 용/긴 1000매 포장기',\n",
       " '아이엔지가구 리오 러블리 베이비장세트 16...',\n",
       " '이케아 ADDE 의자',\n",
       " 'WOHNEN 북유럽 삼각 등받이쿠션 대형 침대',\n",
       " '테이블앤테이블 실리콘 식탁매트 폴리곤',\n",
       " '바른자세 고기능성 애플라이너 애플힙 방석',\n",
       " '애니멀 마그네틱 후크 동물 냉장고 자석',\n",
       " '아씨방가구 120cm 5단 책장',\n",
       " '아이엔지가구 킨포크 주방수납장 1200',\n",
       " 'DIY보석십자수 아이러브페인팅 큐빅 비즈 다...',\n",
       " '예다움 원목 스탠드 옷걸이 원목행거 사무실...',\n",
       " '도쿄카지노 썬그립 T단추 티단추 50칼라',\n",
       " '차렵이불 나노화이바 S K',\n",
       " '양키캔들 캔들 라지자 모음전',\n",
       " '한샘 하이 높이 각도 조절 책상 1200',\n",
       " '리바트 디자인 의자 모음전 원목 가죽 PP 벨...']"
      ]
     },
     "execution_count": 10,
     "metadata": {},
     "output_type": "execute_result"
    }
   ],
   "source": [
    "item_list_naver_fur = []\n",
    "for item_fur in data_naver_fur:\n",
    "    items_naver_fur = item_fur.get_text()\n",
    "    item_list_naver_fur.append(items_naver_fur)           \n",
    "\n",
    "item_list_naver_fur"
   ]
  },
  {
   "cell_type": "code",
   "execution_count": 11,
   "metadata": {},
   "outputs": [
    {
     "name": "stdout",
     "output_type": "stream",
     "text": [
      "'(100) ,(99) ...(40) '아이엔지가구(6) 행거(5) 침대(5) '왕자행거(4) 삼각(4) 1200(4) 수납장(4) 조절(4) 원목(4) 모음전(4) T단추(3) 액자(3) 등받이쿠션(3) 기능성(3) 경추(3) 슬라이딩(3) 알렉스(3) 의자(3) '이케아(3) 티단추(3) '한샘(3) 쿨젤(3) LED(3) 2단(2) 그림(2) 황금(2) 돈나무(2) 침(2) 에어컨(2) 실외기(2) 커버(2) 절전(2) 규조토(2) 발매트(2) 욕실(2) 화장실(2) 등받이(2) 순면(2) 롱쿠션(2) 바디필로우(2) 테니스공(2) 의자다리커버(2) 라지자(2) 수납(2) 4단(2) 38mm(2) 책상(2) "
     ]
    }
   ],
   "source": [
    "str_itemlist_naver_fur = str(item_list_naver_fur)\n",
    "tokenized_naver_fur = nltk.word_tokenize(str_itemlist_naver_fur)\n",
    "word_dic_naver_fur = {}\n",
    "\n",
    "for word in tokenized_naver_fur:\n",
    "    if word not in word_dic_naver_fur:\n",
    "        word_dic_naver_fur[word] = 1 \n",
    "    else:\n",
    "        word_dic_naver_fur[word] += 1\n",
    "        \n",
    "sorted_word_dic_naver_fur = sorted(word_dic_naver_fur.items(), key=lambda x:x[1], reverse=True)\n",
    "\n",
    "for word, count in sorted_word_dic_naver_fur[:50]:\n",
    "    print(\"{0}({1})\".format(word, count), end=\" \")\n",
    "    "
   ]
  },
  {
   "cell_type": "code",
   "execution_count": 12,
   "metadata": {},
   "outputs": [
    {
     "data": {
      "image/png": "[encoded data removed]",
      "text/plain": [
       "<Figure size 1080x360 with 1 Axes>"
      ]
     },
     "metadata": {
      "needs_background": "light"
     },
     "output_type": "display_data"
    }
   ],
   "source": [
    "word_frequency_naver_fur = nltk.FreqDist(word_dic_naver_fur)\n",
    "font_name = matplotlib.font_manager.FontProperties(fname=\"C:/Windows/Fonts/malgun.ttf\").get_name() \n",
    "matplotlib.rc('font', family=font_name)\n",
    "\n",
    "naver_df_fur = pd.DataFrame(list(word_frequency_naver_fur.values()), word_frequency_naver_fur.keys())\n",
    "result_naver_fur = naver_df_fur.sort_values([0], ascending=False)\n",
    "result_naver_fur[3:53].plot(kind='bar', legend=False, figsize=(15,5))\n",
    "plt.show()"
   ]
  },
  {
   "cell_type": "markdown",
   "metadata": {},
   "source": [
    "### 생활 / 건강 Top 100"
   ]
  },
  {
   "cell_type": "code",
   "execution_count": 13,
   "metadata": {},
   "outputs": [
    {
     "name": "stdout",
     "output_type": "stream",
     "text": [
      "https://search.shopping.naver.com/best100v2/detail.nhn?catId=50000008&listType=B10002\n"
     ]
    }
   ],
   "source": [
    "url_naver_life = 'https://search.shopping.naver.com/best100v2/detail.nhn?catId=50000008&listType=B10002'\n",
    "\n",
    "res_naver_life = requests.get(url_naver_life)\n",
    "soup_naver_life = BeautifulSoup(res_naver_life.content, 'html.parser')\n",
    "data_naver_life = soup_naver_life.select('#productListArea > ul > li > p > a')\n",
    "\n",
    "print(url_naver_life)"
   ]
  },
  {
   "cell_type": "code",
   "execution_count": 14,
   "metadata": {},
   "outputs": [
    {
     "data": {
      "text/plain": [
       "['미마 보건용 마스크 KF94',\n",
       " '이디엘 제로베이 미세 황사 마스크 KF94',\n",
       " '암웨이 글리스터 치약 200g',\n",
       " '이지숨 KF94 황사 미세먼지 방역 마스크',\n",
       " '3M 8822 1급 방진마스크',\n",
       " '미마마스크 미마 마스크 KF94',\n",
       " '베리어 15W 고속 무선충전 차량용 휴대폰 거...',\n",
       " '주파집 차량용 센서 무선 고속충전거치대 Q...',\n",
       " '에어퀸 황사 마스크 플러스 KF80',\n",
       " '센소다인 멀티케어 치약 100g',\n",
       " '베리어 마그네틱 차량용 핸드폰 거치대 일반...',\n",
       " 'P&G 다우니 엑스퍼트 실내건조 섬유유연제 ...',\n",
       " '아이엠듀 차량용 무선충전 거치대 15W WCH1',\n",
       " '로랜텍 텔포 퀄컴3.0 듀얼 차량용 고속충전...',\n",
       " '닥터웰 에어라이너 공기압마사지기 HDW-500...',\n",
       " '메디탑 3M 새니타이저 손소독제 500ml',\n",
       " '더블에이 A4용지 복사용지 80g 2500매',\n",
       " '스타벅스 DT 스탠리 스트로 보온병 591ml',\n",
       " 'MF매직하우스 고리회전형 논슬립 옷걸이',\n",
       " '그린월드팜 클리닉크린겔 손소독제 500ml',\n",
       " '주파집 퀄컴 QC 3.0 듀얼 차량용 고속 충전...',\n",
       " '유한킴벌리 크리넥스 비말차단 에어마스크 ...',\n",
       " '한울생약 닥터스 손소독티슈 30매',\n",
       " '베리어 차량용 공기청정기',\n",
       " 'ROCHE 아큐첵 액티브 혈당시험지 50매',\n",
       " 'SK루브리컨츠 지크 탑 5W30 1L',\n",
       " '크리넥스 뉴 순수 소프트 3겹 화장지 27m 3...',\n",
       " '켄트 오리지널 초극세모 칫솔',\n",
       " '메이튼 차량용 핸드폰 고속 무선충전 거치대...',\n",
       " '한국제지 밀크 A4용지 75g 5000매',\n",
       " '램프쿡 자동회전냄비',\n",
       " '엘지생활건강 페리오 뉴 후레쉬 알파 치약 ...',\n",
       " '늘푸른 KF94 마스크',\n",
       " '더블에이 A4복사용지 80g 4000매',\n",
       " '디스산업 시나몬이오 숨프리 황사 마스크 K...',\n",
       " '그랜즈레미디 발냄새 제거제 50g',\n",
       " '와이엠 황사보건용 마스크 KF94',\n",
       " '케이엠모터스 충잘 무선충전 거치대 WC300',\n",
       " '펫큐리안 NOW 그레인프리 스몰브리드 어덜트',\n",
       " '그린제약 소독용 에탄올 1L 1병',\n",
       " '제스파 스트라이프 허리 온열 전기찜질기',\n",
       " '알콘 옵티프리 익스프레스 렌즈세척액 355m...',\n",
       " '솔레오코스메틱 더심플마켓 손 소독제 500m...',\n",
       " '신영인더스 모던홈 탱크 건조대 2단 대',\n",
       " '브람스 다리미인 다리마사지기 BM-909PLUS',\n",
       " '테라브레스 오랄린스 마일드민트 473ml',\n",
       " '더블에이 A4용지 복사용지 80g 5000매',\n",
       " '대한사료 이즈칸 캣 그레인프리 어덜트',\n",
       " '덴티스테 플러스화이트 치약 튜브형 200g',\n",
       " '한국제지 MIILK A4용지 80g 4000매',\n",
       " 'GS칼텍스 킥스 PAO 5W30',\n",
       " '디스크닥터 수동식 공기주입식 정형용 견인...',\n",
       " '유한킴벌리 크리넥스 뉴 데코앤소프트 화장...',\n",
       " '대한사료 이즈칸 그레인프리 퍼포먼스',\n",
       " '코지마 다리마사지기 빅풋 CMF-630',\n",
       " '무형광 핸드타월 5000매',\n",
       " '쉘 힐릭스 울트라 ECT C3 5W30 1L',\n",
       " '애경산업 2080 어드밴스 블루 치석케어 치약...',\n",
       " 'ROCHE 아큐첵 퍼포마 혈당시험지 50매',\n",
       " '유한킴벌리 크리넥스 KF80 데일리 입체형 황...',\n",
       " '포유아이엔씨 포유 킵 대용량텀블러 900ml',\n",
       " '네이쳐리빙 라탄 패턴 빨래바구니 특대',\n",
       " '메이튼 자동차 코일매트',\n",
       " '벡셀 알카라인 건전지 AAA',\n",
       " '유니레버 스너글 블루스파클 고농축 섬유유...',\n",
       " '3M 8710L 2급 마스크 방진마스크',\n",
       " '스타벅스 SS 엘마 헤리티지 텀블러 473ml',\n",
       " '두리씨오 두리펀 더블퀵 빨래건조대 6단 와...',\n",
       " 'BRAUN 브라운 귀적외선 체온계 IRT-6030',\n",
       " '헨켈 퍼실 파워젤 딥클린 라벤더 드럼용 세...',\n",
       " '한국콜마 애터미 프로폴리스 치약 200g',\n",
       " '헨켈 퍼실 프로페셔널 대용량 액체세제 일반...',\n",
       " 'ROCHE 아큐첵 퍼포마 혈당시험지 100매',\n",
       " '아이엠듀 차량용 공기청정기 제피로스 C1',\n",
       " '어니우니 밀대걸레 스프레이 물걸레 청소기',\n",
       " '한국제지 MIILK A4 복사용지 80g 5000매',\n",
       " '본투로드 DUB 논슬립 벨벳 대쉬보드커버',\n",
       " '착한화장지 블랙펄 롤화장지 4겹 30M 30롤',\n",
       " '디프로젝트 디불 차량용 불독 인테리어 방향...',\n",
       " '퍼피가드 강아지 미끄럼방지  매트',\n",
       " '올프리 롤티슈 3겹 40M 18롤',\n",
       " '부광 시린메드 에프 치약 125g',\n",
       " '바슈롬 리뉴 후레쉬  500ml',\n",
       " 'P&G 다우니 아로마플로럴 일반섬유유연제 8...',\n",
       " '코리아보드게임즈 루미큐브 클래식 보드게임...',\n",
       " '아이센스 케어센스2 혈당시험지 100매',\n",
       " '그린제약 소독용 에탄올 4L',\n",
       " '아이엠듀 차량용 고속 무선충전기 C10',\n",
       " '로얄캐닌 미니 인도어 어덜트',\n",
       " '더블에이 A4용지 75g 4000매',\n",
       " '코리아코스팩 바라보고 클린투클린 휴대용 ...',\n",
       " '존슨앤존슨 리스테린 쿨민트 750ml',\n",
       " '로얄캐닌 캣 키튼',\n",
       " '라이프투게더 크린마마 손소독겔 500ml',\n",
       " '콘바텍 듀오덤 엑스트라 씬 10 x 10cm 2매',\n",
       " '홈스웰 재활용 분리수거함 3P',\n",
       " '킥스 PAO1 0w30 엔진오일 1L',\n",
       " '검아웃 올인원 가솔린 전용 연료첨가제 296...',\n",
       " '팜파스 미쁘 프리미엄 무형광 핸드타월 2겹...',\n",
       " '한샘 양날개 플러스 건조대 이동형']"
      ]
     },
     "execution_count": 14,
     "metadata": {},
     "output_type": "execute_result"
    }
   ],
   "source": [
    "item_list_naver_life = []\n",
    "for item_life in data_naver_life:\n",
    "    items_naver_life = item_life.get_text()\n",
    "    item_list_naver_life.append(items_naver_life)           \n",
    "\n",
    "item_list_naver_life"
   ]
  },
  {
   "cell_type": "code",
   "execution_count": 15,
   "metadata": {},
   "outputs": [
    {
     "name": "stdout",
     "output_type": "stream",
     "text": [
      "'(103) ,(99) ...(28) 차량용(11) 마스크(9) 치약(7) KF94(6) A4용지(5) 80g(5) 황사(4) 고속(4) 무선충전(4) 거치대(4) 500ml(4) '더블에이(4) 혈당시험지(4) 1L(4) 5000매(4) 200g(3) '베리어(3) '아이엠듀(3) 복사용지(3) '유한킴벌리(3) 크리넥스(3) 'ROCHE(3) 아큐첵(3) 5W30(3) 뉴(3) '한국제지(3) 4000매(3) 그레인프리(3) 어덜트(3) '3M(2) 방진마스크(2) 15W(2) '주파집(2) 플러스(2) KF80(2) 핸드폰(2) 일반(2) P(2) &(2) G(2) 다우니(2) 듀얼(2) 손소독제(2) '스타벅스(2) 논슬립(2) 공기청정기(2) 50매(2) "
     ]
    }
   ],
   "source": [
    "str_itemlist_naver_life = str(item_list_naver_life)\n",
    "tokenized_naver_life = nltk.word_tokenize(str_itemlist_naver_life)\n",
    "word_dic_naver_life = {}\n",
    "\n",
    "for word in tokenized_naver_life:\n",
    "    if word not in word_dic_naver_life:\n",
    "        word_dic_naver_life[word] = 1 \n",
    "    else:\n",
    "        word_dic_naver_life[word] += 1\n",
    "        \n",
    "sorted_word_dic_naver_life = sorted(word_dic_naver_life.items(), key=lambda x:x[1], reverse=True)\n",
    "\n",
    "for word, count in sorted_word_dic_naver_life[:50]:\n",
    "    print(\"{0}({1})\".format(word, count), end=\" \")"
   ]
  },
  {
   "cell_type": "code",
   "execution_count": 16,
   "metadata": {},
   "outputs": [
    {
     "data": {
      "image/png": "[encoded data removed]",
      "text/plain": [
       "<Figure size 1080x360 with 1 Axes>"
      ]
     },
     "metadata": {
      "needs_background": "light"
     },
     "output_type": "display_data"
    }
   ],
   "source": [
    "word_frequency_naver_life = nltk.FreqDist(word_dic_naver_life)\n",
    "font_name = matplotlib.font_manager.FontProperties(fname=\"C:/Windows/Fonts/malgun.ttf\").get_name() \n",
    "matplotlib.rc('font', family=font_name)\n",
    "\n",
    "naver_df_life = pd.DataFrame(list(word_frequency_naver_life.values()), word_frequency_naver_life.keys())\n",
    "result_naver_life = naver_df_life.sort_values([0], ascending=False)\n",
    "result_naver_life[3:53].plot(kind='bar', legend=False, figsize=(15,5))\n",
    "plt.show()"
   ]
  }
 ],
 "metadata": {
  "kernelspec": {
   "display_name": "Python 3",
   "language": "python",
   "name": "python3"
  },
  "language_info": {
   "codemirror_mode": {
    "name": "ipython",
    "version": 3
   },
   "file_extension": ".py",
   "mimetype": "text/x-python",
   "name": "python",
   "nbconvert_exporter": "python",
   "pygments_lexer": "ipython3",
   "version": "3.7.3"
  }
 },
 "nbformat": 4,
 "nbformat_minor": 2
}
