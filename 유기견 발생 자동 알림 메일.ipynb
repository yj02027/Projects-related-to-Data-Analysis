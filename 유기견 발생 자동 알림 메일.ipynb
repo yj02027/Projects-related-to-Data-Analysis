{
 "cells": [
  {
   "cell_type": "code",
   "execution_count": 3,
   "metadata": {},
   "outputs": [],
   "source": [
    "import time\n",
    "from urllib.request import urlopen # url 웹페이지 오픈\n",
    "from bs4 import BeautifulSoup\n",
    "import json\n",
    "import requests\n",
    "from bs4 import BeautifulSoup"
   ]
  },
  {
   "cell_type": "markdown",
   "metadata": {},
   "source": [
    "## 유기견발생 알림메일"
   ]
  },
  {
   "cell_type": "code",
   "execution_count": 4,
   "metadata": {},
   "outputs": [
    {
     "name": "stdout",
     "output_type": "stream",
     "text": [
      "등록번호 2020-00307 유기견이 경기도 양평에서 발견되었습니다. \n",
      "\n",
      " 품종:닥스훈트 \n",
      " 성별:수컷 \n",
      " 발견장소:강하면 항금리220..\n",
      "\n",
      " 해당 시군구 및 동물보호센터 또는 동물보호상담센터 1577-0954로 문의하시기 바랍니다. \n",
      " 문의전화는 오전9시~오후6시에만 가능합니다.\n"
     ]
    }
   ],
   "source": [
    "url = 'https://www.animal.go.kr/front/awtis/public/publicList.do?totalCount=1647&pageSize=10&boardId=&desertionNo=&menuNo=1000000055&searchSDate=2020-06-22&searchEDate=2020-07-23&searchUprCd=6410000&searchOrgCd=&searchCareRegNo=&searchUpKindCd=417000&searchKindCd=&searchState=&&page=1'\n",
    "webpage = urlopen(url)\n",
    "source = BeautifulSoup(webpage, 'html.parser')\n",
    "\n",
    "target = source.find_all('div', {'class':'txt'})\n",
    "\n",
    "dog_new=[] #업데이트 된 강아지 정보 받기\n",
    "powder=target[0].find('')\n",
    "powder=str(powder)\n",
    "powder_loc=powder[21:23] #도 받기\n",
    "powder_city=powder[24:26] #도시 받기\n",
    "powder_reg=powder[27:37] #등록번호 받기\n",
    "\n",
    "\n",
    "dogdog=target[0].find_all('dd')\n",
    "dogdog_species=str(dogdog[2])\n",
    "dogdog_species=dogdog_species[4:-5] #강아지 종 추출\n",
    "\n",
    "dogdog_sex=str(dogdog[3])\n",
    "dogdog_sex=dogdog_sex[4:-5] #강아지 성별 추출\n",
    "\n",
    "\n",
    "dogdog_find=str(dogdog[4])\n",
    "dogdog_find=dogdog_find[4:-5] #강아지 찾은 위치\n",
    "\n",
    "\n",
    "\n",
    "#메일 내용\n",
    "Message=('등록번호 {} 유기견이 {}도 {}에서 발견되었습니다. \\n\\n 품종:{} \\n 성별:{} \\n 발견장소:{}\\n\\n 해당 시군구 및 동물보호센터 또는 동물보호상담센터 1577-0954로 문의하시기 바랍니다. \\n 문의전화는 오전9시~오후6시에만 가능합니다.'.format(powder_reg,powder_loc,powder_city,dogdog_species,dogdog_sex,dogdog_find))\n",
    "Message=str(Message)\n",
    "print(Message)"
   ]
  },
  {
   "cell_type": "code",
   "execution_count": 5,
   "metadata": {},
   "outputs": [],
   "source": [
    "import smtplib\n",
    "from email.mime.text import MIMEText\n",
    "\n",
    "def sendMail(sender, receiver, msg):\n",
    "    smtp = smtplib.SMTP_SSL('smtp.gmail.com', 465)\n",
    "    smtp.login('illisha97@gmail.com', 'yivksuiyyewcatyb') # 지메일 \"앱 비밀번호\" 를 입력해주세요.\n",
    "    msg = MIMEText(Message) #메일 내용\n",
    "    \n",
    "    \n",
    "    msg['Subject'] = '※알림: 유기견이 발견되었습니다!※' #메일 제목\n",
    "    smtp.sendmail('illisha97@gmail.com', 'illisha97@gmail.com', msg.as_string()) #앞에는 주는사람 뒤에는 받는사람\n",
    "    smtp.quit()"
   ]
  },
  {
   "cell_type": "markdown",
   "metadata": {},
   "source": [
    "## 시기별 유기견 건수 알림메일"
   ]
  },
  {
   "cell_type": "code",
   "execution_count": 6,
   "metadata": {
    "scrolled": true
   },
   "outputs": [
    {
     "name": "stdout",
     "output_type": "stream",
     "text": [
      "업데이트가 되지 않았습니다.\n",
      "1605\n",
      "업데이트가 되지 않았습니다.\n",
      "1606\n",
      "업데이트가 되지 않았습니다.\n",
      "1607\n",
      "메일발송\n"
     ]
    }
   ],
   "source": [
    "initial_status=1604 \n",
    "mail=0\n",
    "\n",
    "while initial_status<11700:\n",
    "\n",
    "    \n",
    "    # 경기도에서 유기된 강아지 건수 수집\n",
    "\n",
    "    url = 'https://www.animal.go.kr/front/awtis/public/publicList.do?totalCount=1647&pageSize=10&boardId=&desertionNo=&menuNo=1000000055&searchSDate=2020-06-23&searchEDate=2020-07-23&searchUprCd=6410000&searchOrgCd=&searchCareRegNo=&searchUpKindCd=417000&searchKindCd=&searchState=&&page=1'\n",
    "    webpage = urlopen(url)\n",
    "    source = BeautifulSoup(webpage, 'html.parser')\n",
    "\n",
    "\n",
    "    \n",
    "    target = source.find_all('ul', {'class':'list'})\n",
    "    num=target[0].find('li').text.strip()\n",
    "    a=num[2:8]\n",
    "    b=a.replace(',','') \n",
    "    status=int(b)\n",
    "    status\n",
    "    \n",
    "    # 메일 발송\n",
    "    \n",
    "    if initial_status==status:\n",
    "        print('메일발송')\n",
    "        sendMail('illisha97@gmail.com', 'illisha97@gmail.com', '유기동물!')\n",
    "        mail=mail+1\n",
    "        if mail!=0:\n",
    "            break\n",
    "\n",
    "      \n",
    "    else:\n",
    "        print('업데이트가 되지 않았습니다.')\n",
    "        initial_status = initial_status+1\n",
    "        print(initial_status)\n",
    "    time.sleep(5)\n",
    "    \n",
    "    \n",
    "    "
   ]
  },
  {
   "cell_type": "markdown",
   "metadata": {},
   "source": [
    "**당일 발생 유기견 건수 알림메일**"
   ]
  },
  {
   "cell_type": "code",
   "execution_count": 7,
   "metadata": {
    "scrolled": true
   },
   "outputs": [
    {
     "data": {
      "text/plain": [
       "'2020-07-23'"
      ]
     },
     "execution_count": 7,
     "metadata": {},
     "output_type": "execute_result"
    }
   ],
   "source": [
    "s_time=time.strftime('%Y-%m-%d', time.localtime(time.time()))\n",
    "s_time"
   ]
  },
  {
   "cell_type": "code",
   "execution_count": 8,
   "metadata": {},
   "outputs": [
    {
     "name": "stdout",
     "output_type": "stream",
     "text": [
      "오늘 유기된 강아지 수:2\n"
     ]
    }
   ],
   "source": [
    "\n",
    "# 오늘 에서 유기된 강아지 마리수 구하기\n",
    "#오늘 날짜도 파이썬에서 받아옴\n",
    "\n",
    "\n",
    "Gyeonggi='6410000'\n",
    "dog='417000'\n",
    "\n",
    "url_day='https://www.animal.go.kr/front/awtis/public/publicList.do?totalCount=1605&pageSize=10&boardId=&desertionNo=&menuNo=1000000055&searchSDate='+s_time+'&searchEDate='+s_time+'&searchUprCd='+Gyeonggi+'&searchOrgCd=&searchCareRegNo=&searchUpKindCd='+dog+'&searchKindCd=&searchState=&&page=1'\n",
    "\n",
    "webpage = urlopen(url_day)\n",
    "source = BeautifulSoup(webpage, 'html.parser')\n",
    "\n",
    "\n",
    "target = source.find_all('ul', {'class':'list'})\n",
    "\n",
    "num=target[0].find('li').text.strip()\n",
    "\n",
    "a=num[2:-2]\n",
    "b=a.replace(',','') # 쉼표 없애기\n",
    "\n",
    "# 오늘 유기된 강아지 수가 없으면 b는 숫자x 문자로 나옴 -> int(b)가 불가능하므로 try except\n",
    "\n",
    "\n",
    "try:\n",
    "    b=int(b)\n",
    "    print('오늘 유기된 강아지 수:{}'.format(b))\n",
    "\n",
    "except:\n",
    "    print('오늘 유기된 강아지가 없습니다!')\n",
    "    \n",
    "\n",
    "\n"
   ]
  },
  {
   "cell_type": "code",
   "execution_count": null,
   "metadata": {},
   "outputs": [],
   "source": []
  },
  {
   "cell_type": "code",
   "execution_count": null,
   "metadata": {},
   "outputs": [],
   "source": []
  }
 ],
 "metadata": {
  "kernelspec": {
   "display_name": "Python 3",
   "language": "python",
   "name": "python3"
  },
  "language_info": {
   "codemirror_mode": {
    "name": "ipython",
    "version": 3
   },
   "file_extension": ".py",
   "mimetype": "text/x-python",
   "name": "python",
   "nbconvert_exporter": "python",
   "pygments_lexer": "ipython3",
   "version": "3.7.3"
  }
 },
 "nbformat": 4,
 "nbformat_minor": 2
}
